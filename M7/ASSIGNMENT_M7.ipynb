{
 "cells": [
  {
   "cell_type": "markdown",
   "metadata": {},
   "source": [
    "#   MODULE_7: ASSIGNMENT."
   ]
  },
  {
   "cell_type": "markdown",
   "metadata": {},
   "source": [
    "-   -   -   -   -   -   -   -   -   -   "
   ]
  },
  {
   "cell_type": "markdown",
   "metadata": {},
   "source": [
    "#       Python Data Toolkit"
   ]
  },
  {
   "cell_type": "markdown",
   "metadata": {},
   "source": [
    "### 1. What is NumPy, and why is it widely used in Python?\n",
    "\n",
    "- NumPy (Numerical Python) is a library for numerical computing in Python.\n",
    "- It provides support for large, multi-dimensional arrays and matrices.\n",
    "- It includes mathematical functions for efficient array operations.\n",
    "- NumPy is optimized for performance and memory efficiency.\n",
    "- It integrates well with other libraries like Pandas, SciPy, and Matplotlib.\n",
    "\n",
    "**Example:**\n",
    "\n",
    "```python\n",
    "import numpy as np\n",
    "arr = np.array([1, 2, 3, 4])\n",
    "print(arr)\n",
    "```\n",
    "\n",
    "**Output:**\n",
    "\n",
    "```\n",
    "[1 2 3 4]\n",
    "```\n",
    "\n",
    "### 2. How does broadcasting work in NumPy?\n",
    "\n",
    "- Broadcasting allows operations between arrays of different shapes.\n",
    "- Smaller arrays are expanded to match the shape of larger ones.\n",
    "- It eliminates the need for looping through elements manually.\n",
    "- It improves computational efficiency by avoiding memory duplication.\n",
    "- Broadcasting follows specific rules to align dimensions automatically.\n",
    "\n",
    "**Example:**\n",
    "\n",
    "```python\n",
    "import numpy as np\n",
    "arr1 = np.array([1, 2, 3])\n",
    "arr2 = np.array([[1], [2], [3]])\n",
    "result = arr1 + arr2\n",
    "print(result)\n",
    "```\n",
    "\n",
    "**Output:**\n",
    "\n",
    "```\n",
    "[[2 3 4]\n",
    " [3 4 5]\n",
    " [4 5 6]]\n",
    "```\n",
    "\n",
    "### 3. What is a Pandas DataFrame?\n",
    "\n",
    "- A Pandas DataFrame is a two-dimensional, labeled data structure.\n",
    "- It can hold multiple data types within columns.\n",
    "- It supports row and column indexing.\n",
    "- Data can be loaded from various sources like CSV, Excel, and SQL.\n",
    "- It provides powerful data manipulation and analysis tools.\n",
    "\n",
    "**Example:**\n",
    "\n",
    "```python\n",
    "import pandas as pd\n",
    "data = {'Name': ['Alice', 'Bob'], 'Age': [25, 30]}\n",
    "df = pd.DataFrame(data)\n",
    "print(df)\n",
    "```\n",
    "\n",
    "**Output:**\n",
    "\n",
    "```\n",
    "    Name  Age\n",
    "0  Alice   25\n",
    "1    Bob   30\n",
    "```\n",
    "\n",
    "### 4. Explain the use of the groupby() method in Pandas.\n",
    "\n",
    "- `groupby()` groups data based on a specified column.\n",
    "- It allows aggregate functions like sum, mean, and count.\n",
    "- It simplifies complex data summarization tasks.\n",
    "- It supports multiple grouping keys for hierarchical analysis.\n",
    "- It enhances readability and efficiency in data analysis.\n",
    "\n",
    "**Example:**\n",
    "\n",
    "```python\n",
    "df = pd.DataFrame({'Team': ['A', 'A', 'B', 'B'], 'Score': [10, 15, 8, 12]})\n",
    "grouped = df.groupby('Team').sum()\n",
    "print(grouped)\n",
    "```\n",
    "\n",
    "**Output:**\n",
    "\n",
    "```\n",
    "      Score\n",
    "Team      \n",
    "A        25\n",
    "B        20\n",
    "```\n",
    "\n",
    "### 5. Why is Seaborn preferred for statistical visualizations?\n",
    "\n",
    "- Seaborn is built on Matplotlib and simplifies statistical plotting.\n",
    "- It provides built-in themes and color palettes.\n",
    "- It integrates well with Pandas DataFrames.\n",
    "- It supports complex visualizations like violin plots and box plots.\n",
    "- It automates statistical estimation and data visualization.\n",
    "\n",
    "**Example:**\n",
    "\n",
    "```python\n",
    "import seaborn as sns\n",
    "import matplotlib.pyplot as plt\n",
    "data = sns.load_dataset('iris')\n",
    "sns.pairplot(data, hue='species')\n",
    "plt.show()\n",
    "```\n",
    "\n",
    "**Output:**\n",
    "(Displays a pairplot visualization of the Iris dataset)\n",
    "\n",
    "### 6. What are the differences between NumPy arrays and Python lists?\n",
    "\n",
    "- NumPy arrays use fixed types, while lists can have mixed types.\n",
    "- Arrays are more memory-efficient than lists.\n",
    "- NumPy supports vectorized operations, whereas lists require loops.\n",
    "- Arrays allow multi-dimensional data handling.\n",
    "- NumPy operations are significantly faster than list operations.\n",
    "\n",
    "### 7. What is a heatmap, and when should it be used?\n",
    "\n",
    "- A heatmap represents data values with colors.\n",
    "- It helps identify correlations and patterns in datasets.\n",
    "- It is useful in displaying large datasets visually.\n",
    "- It is commonly used in correlation matrices and performance metrics.\n",
    "- It simplifies complex data interpretation.\n",
    "\n",
    "**Example:**\n",
    "\n",
    "```python\n",
    "sns.heatmap(df.corr(), annot=True, cmap='coolwarm')\n",
    "plt.show()\n",
    "```\n",
    "\n",
    "**Output:**\n",
    "(Displays a heatmap visualization of correlation data)\n",
    "\n",
    "### 8. What does the term “vectorized operation” mean in NumPy?\n",
    "\n",
    "- Vectorized operations allow element-wise operations on arrays.\n",
    "- They eliminate the need for explicit loops.\n",
    "- They improve computational efficiency.\n",
    "- They are supported directly by NumPy functions.\n",
    "- They leverage optimized C and Fortran implementations.\n",
    "\n",
    "**Example:**\n",
    "\n",
    "```python\n",
    "arr = np.array([1, 2, 3])\n",
    "print(arr * 2)  # Vectorized multiplication\n",
    "```\n",
    "\n",
    "**Output:**\n",
    "\n",
    "```\n",
    "[2 4 6]\n",
    "```\n",
    "\n",
    "### 9. How does Matplotlib differ from Plotly?\n",
    "\n",
    "- Matplotlib generates static plots, whereas Plotly provides interactive ones.\n",
    "- Plotly supports web-based visualizations.\n",
    "- Matplotlib is widely used for academic and research purposes.\n",
    "- Plotly offers built-in support for dashboards.\n",
    "- Matplotlib requires more customization for advanced plots.\n",
    "\n",
    "### 10. What is the significance of hierarchical indexing in Pandas?\n",
    "\n",
    "- It allows multi-level row and column indexing.\n",
    "- It enables efficient data organization.\n",
    "- It simplifies access to complex datasets.\n",
    "- It enhances performance in data operations.\n",
    "- It supports multi-dimensional data structures.\n",
    "\n",
    "### 11. What is the role of Seaborn’s pairplot() function?\n",
    "\n",
    "- It creates scatter plots for numerical columns.\n",
    "- It helps visualize relationships between variables.\n",
    "- It supports color differentiation using `hue`.\n",
    "- It is useful for exploratory data analysis.\n",
    "- It provides diagonal histograms for distributions.\n",
    "\n",
    "### 12. What is the purpose of the describe() function in Pandas?\n",
    "\n",
    "- It provides summary statistics.\n",
    "- It shows mean, median, and standard deviation.\n",
    "- It identifies missing data.\n",
    "- It gives percentiles and count.\n",
    "- It works only on numerical data by default.\n",
    "\n",
    "**Example:**\n",
    "\n",
    "```python\n",
    "print(df.describe())\n",
    "```\n",
    "\n",
    "**Output:**\n",
    "(Displays summary statistics of the DataFrame)\n",
    "\n",
    "### 13. Why is handling missing data important in Pandas?\n",
    "\n",
    "- Missing data can skew analysis results.\n",
    "- Pandas provides methods like `dropna()` and `fillna()`.\n",
    "- Filling missing data ensures consistency in datasets.\n",
    "- It helps avoid computational errors.\n",
    "- It maintains data integrity.\n",
    "\n",
    "### 14. What are the benefits of using Plotly for data visualization?\n",
    "\n",
    "- It provides interactive plots.\n",
    "- It handles large datasets effectively.\n",
    "- It integrates with web applications.\n",
    "- It offers built-in dashboards.\n",
    "- It has a rich set of visualizations.\n",
    "\n",
    "### 15. How does NumPy handle multidimensional arrays?\n",
    "\n",
    "- NumPy uses `ndarray` objects.\n",
    "- It supports multiple dimensions efficiently.\n",
    "- It allows reshaping of arrays.\n",
    "- It optimizes memory usage.\n",
    "- It supports slicing and indexing.\n",
    "\n",
    "**Example:**\n",
    "\n",
    "```python\n",
    "arr = np.array([[1, 2], [3, 4]])\n",
    "print(arr.shape)\n",
    "```\n",
    "\n",
    "**Output:**\n",
    "\n",
    "```\n",
    "(2, 2)\n",
    "```\n",
    "\n",
    "### 16. What is the role of Bokeh in data visualization?\n",
    "\n",
    "- Bokeh creates interactive, web-ready visualizations.\n",
    "- It supports large and real-time streaming datasets.\n",
    "- It allows linking multiple plots together.\n",
    "- It integrates well with Flask and Django.\n",
    "- It provides high-performance graphics with JavaScript rendering.\n",
    "\n",
    "**Example:**\n",
    "\n",
    "```python\n",
    "from bokeh.plotting import figure, show\n",
    "from bokeh.io import output_file\n",
    "\n",
    "output_file(\"bokeh_plot.html\")\n",
    "p = figure(title=\"Line Chart Example\")\n",
    "p.line([1, 2, 3, 4], [10, 20, 30, 40])\n",
    "show(p)\n",
    "```\n",
    "\n",
    "**Output:**\n",
    "(Generates an interactive line chart in an HTML file)\n",
    "\n",
    "### 17. Explain the difference between apply() and map() in Pandas\n",
    "\n",
    "- `apply()` works on both Series and DataFrames, while `map()` is for Series only.\n",
    "- `apply()` can be used for row-wise and column-wise operations.\n",
    "- `map()` applies functions element-wise to Series.\n",
    "- `apply()` supports lambda functions and complex logic.\n",
    "- `map()` is best for simple transformations.\n",
    "\n",
    "**Example:**\n",
    "\n",
    "```python\n",
    "import pandas as pd\n",
    "df = pd.DataFrame({'A': [1, 2, 3]})\n",
    "df['B'] = df['A'].apply(lambda x: x * 2)\n",
    "df['C'] = df['A'].map({1: 'One', 2: 'Two', 3: 'Three'})\n",
    "print(df)\n",
    "```\n",
    "\n",
    "**Output:**\n",
    "\n",
    "```\n",
    "   A  B      C\n",
    "0  1  2    One\n",
    "1  2  4    Two\n",
    "2  3  6  Three\n",
    "```\n",
    "\n",
    "### 18. What are some advanced features of NumPy?\n",
    "\n",
    "- Supports broadcasting for efficient operations.\n",
    "- Provides linear algebra functions (`numpy.linalg`).\n",
    "- Allows memory mapping for handling large datasets.\n",
    "- Offers fast Fourier transforms (`numpy.fft`).\n",
    "- Supports masked arrays for handling missing data.\n",
    "\n",
    "**Example:**\n",
    "\n",
    "```python\n",
    "import numpy as np\n",
    "arr = np.array([[1, 2], [3, 4]])\n",
    "print(np.linalg.inv(arr))  # Matrix inverse\n",
    "```\n",
    "\n",
    "**Output:**\n",
    "\n",
    "```\n",
    "[[-2.   1. ]\n",
    " [ 1.5 -0.5]]\n",
    "```\n",
    "\n",
    "### 19. How does Pandas simplify time series analysis?\n",
    "\n",
    "- Supports date-time indexing.\n",
    "- Provides resampling for frequency conversion.\n",
    "- Allows rolling and expanding window operations.\n",
    "- Includes built-in functions for handling time zones.\n",
    "- Offers shifting and lagging capabilities.\n",
    "\n",
    "**Example:**\n",
    "\n",
    "```python\n",
    "import pandas as pd\n",
    "dates = pd.date_range(\"20240101\", periods=6)\n",
    "df = pd.DataFrame({'Date': dates, 'Value': [10, 20, 30, 40, 50, 60]})\n",
    "df.set_index('Date', inplace=True)\n",
    "print(df.resample('2D').sum())\n",
    "```\n",
    "\n",
    "**Output:**\n",
    "(Aggregated sum every 2 days)\n",
    "\n",
    "### 20. What is the role of a pivot table in Pandas?\n",
    "\n",
    "- Summarizes and restructures data.\n",
    "- Supports multiple aggregation functions.\n",
    "- Provides a way to analyze relationships between data points.\n",
    "- Helps in data visualization and reporting.\n",
    "- Enables easy grouping and transformation of data.\n",
    "\n",
    "**Example:**\n",
    "\n",
    "```python\n",
    "df = pd.DataFrame({\n",
    "    'Category': ['A', 'B', 'A', 'B'],\n",
    "    'Values': [10, 20, 30, 40]\n",
    "})\n",
    "print(pd.pivot_table(df, values='Values', index='Category', aggfunc='sum'))\n",
    "```\n",
    "\n",
    "**Output:**\n",
    "\n",
    "```\n",
    "Category     Values\n",
    "A             40\n",
    "B             60\n",
    "```\n",
    "\n",
    "### 21. Why is NumPy’s array slicing faster than Python’s list slicing?\n",
    "\n",
    "- NumPy arrays use contiguous memory blocks.\n",
    "- It performs operations at the C-level without Python overhead.\n",
    "- Uses views instead of copying data.\n",
    "- Optimized using SIMD (Single Instruction, Multiple Data) techniques.\n",
    "- Reduces memory overhead compared to Python lists.\n",
    "\n",
    "**Example:**\n",
    "\n",
    "```python\n",
    "import numpy as np\n",
    "arr = np.array([1, 2, 3, 4, 5])\n",
    "sliced_arr = arr[1:4]  # No new memory allocation\n",
    "print(sliced_arr)\n",
    "```\n",
    "\n",
    "**Output:**\n",
    "\n",
    "```\n",
    "[2 3 4]\n",
    "```\n",
    "\n",
    "### 22. What are some common use cases for Seaborn?\n",
    "\n",
    "- Creating statistical visualizations with ease.\n",
    "- Visualizing distributions using histograms and KDE plots.\n",
    "- Generating correlation heatmaps.\n",
    "- Producing pair plots for multi-variable relationships.\n",
    "- Enhancing standard Matplotlib plots with better aesthetics.\n",
    "\n"
   ]
  },
  {
   "cell_type": "markdown",
   "metadata": {},
   "source": [
    "-   -   -   -   -   -   -   -   -   -"
   ]
  },
  {
   "cell_type": "markdown",
   "metadata": {},
   "source": [
    "#   Practical Questions"
   ]
  },
  {
   "cell_type": "code",
   "execution_count": 7,
   "metadata": {},
   "outputs": [
    {
     "name": "stdout",
     "output_type": "stream",
     "text": [
      "[ 6 15]\n"
     ]
    }
   ],
   "source": [
    "'''  1.How do you create a 2D NumPy array and calculate the sum of each row?    '''\n",
    "\n",
    "import numpy as np\n",
    "arr=np.array([[1,2,3],[4,5,6]])\n",
    "row_sums = arr.sum(axis=1)\n",
    "#print(arr)\n",
    "print(row_sums)"
   ]
  },
  {
   "cell_type": "code",
   "execution_count": 8,
   "metadata": {},
   "outputs": [
    {
     "name": "stdout",
     "output_type": "stream",
     "text": [
      "Mean Age: 30.0\n"
     ]
    }
   ],
   "source": [
    "''' 2.Write a Pandas script to find the mean of a specific column in a DataFrame.  '''\n",
    "\n",
    "import pandas as pd\n",
    "\n",
    "# Sample DataFrame\n",
    "df = pd.DataFrame({'Name': ['Alice', 'Bob', 'Charlie'], 'Age': [25, 30, 35]})\n",
    "\n",
    "# Compute mean of 'Age' column\n",
    "mean_age = df['Age'].mean()\n",
    "\n",
    "print(\"Mean Age:\", mean_age)\n",
    "        \n"
   ]
  },
  {
   "cell_type": "code",
   "execution_count": 9,
   "metadata": {},
   "outputs": [
    {
     "data": {
      "image/png": "[encoded data removed]",
      "text/plain": [
       "<Figure size 640x480 with 1 Axes>"
      ]
     },
     "metadata": {},
     "output_type": "display_data"
    }
   ],
   "source": [
    "'''    3. Create a scatter plot using Matplotlib? '''\n",
    "import matplotlib.pyplot as plt\n",
    "import numpy as np\n",
    "\n",
    "# Sample data\n",
    "x = np.random.rand(50)\n",
    "y = np.random.rand(50)\n",
    "\n",
    "# Scatter plot\n",
    "plt.scatter(x, y, color='blue', alpha=0.5)\n",
    "plt.xlabel(\"X-axis\")\n",
    "plt.ylabel(\"Y-axis\")\n",
    "plt.title(\"Scatter Plot\")\n",
    "plt.show()"
   ]
  },
  {
   "cell_type": "code",
   "execution_count": 1,
   "metadata": {},
   "outputs": [
    {
     "data": {
      "image/png": "[encoded data removed]",
      "text/plain": [
       "<Figure size 640x480 with 2 Axes>"
      ]
     },
     "metadata": {},
     "output_type": "display_data"
    }
   ],
   "source": [
    "'''' 4. Calculate the correlation matrix using Seaborn and visualize it with a heatmap?  '''\n",
    "import seaborn as sns\n",
    "import pandas as pd\n",
    "import numpy as np\n",
    "import matplotlib.pyplot as plt\n",
    "\n",
    "# Sample DataFrame\n",
    "data = np.random.rand(10, 4)\n",
    "df = pd.DataFrame(data, columns=['A', 'B', 'C', 'D'])\n",
    "\n",
    "# Compute correlation matrix\n",
    "corr = df.corr()\n",
    "\n",
    "# Create heatmap\n",
    "sns.heatmap(corr, annot=True, cmap='coolwarm', linewidths=0.5)\n",
    "plt.title(\"Correlation Matrix Heatmap\")\n",
    "plt.show()\n"
   ]
  },
  {
   "cell_type": "code",
   "execution_count": 2,
   "metadata": {},
   "outputs": [
    {
     "data": {
      "application/vnd.plotly.v1+json": {
       "config": {
        "plotlyServerURL": "https://plot.ly"
       },
       "data": [
        {
         "alignmentgroup": "True",
         "hovertemplate": "Category=%{x}<br>Values=%{y}<extra></extra>",
         "legendgroup": "",
         "marker": {
          "color": "#636efa",
          "pattern": {
           "shape": ""
          }
         },
         "name": "",
         "offsetgroup": "",
         "orientation": "v",
         "showlegend": false,
         "textposition": "auto",
         "type": "bar",
         "x": [
          "A",
          "B",
          "C",
          "D"
         ],
         "xaxis": "x",
         "y": [
          10,
          15,
          7,
          12
         ],
         "yaxis": "y"
        }
       ],
       "layout": {
        "barmode": "relative",
        "legend": {
         "tracegroupgap": 0
        },
        "template": {
         "data": {
          "bar": [
           {
            "error_x": {
             "color": "#2a3f5f"
            },
            "error_y": {
             "color": "#2a3f5f"
            },
            "marker": {
             "line": {
              "color": "#E5ECF6",
              "width": 0.5
             },
             "pattern": {
              "fillmode": "overlay",
              "size": 10,
              "solidity": 0.2
             }
            },
            "type": "bar"
           }
          ],
          "barpolar": [
           {
            "marker": {
             "line": {
              "color": "#E5ECF6",
              "width": 0.5
             },
             "pattern": {
              "fillmode": "overlay",
              "size": 10,
              "solidity": 0.2
             }
            },
            "type": "barpolar"
           }
          ],
          "carpet": [
           {
            "aaxis": {
             "endlinecolor": "#2a3f5f",
             "gridcolor": "white",
             "linecolor": "white",
             "minorgridcolor": "white",
             "startlinecolor": "#2a3f5f"
            },
            "baxis": {
             "endlinecolor": "#2a3f5f",
             "gridcolor": "white",
             "linecolor": "white",
             "minorgridcolor": "white",
             "startlinecolor": "#2a3f5f"
            },
            "type": "carpet"
           }
          ],
          "choropleth": [
           {
            "colorbar": {
             "outlinewidth": 0,
             "ticks": ""
            },
            "type": "choropleth"
           }
          ],
          "contour": [
           {
            "colorbar": {
             "outlinewidth": 0,
             "ticks": ""
            },
            "colorscale": [
             [
              0,
              "#0d0887"
             ],
             [
              0.1111111111111111,
              "#46039f"
             ],
             [
              0.2222222222222222,
              "#7201a8"
             ],
             [
              0.3333333333333333,
              "#9c179e"
             ],
             [
              0.4444444444444444,
              "#bd3786"
             ],
             [
              0.5555555555555556,
              "#d8576b"
             ],
             [
              0.6666666666666666,
              "#ed7953"
             ],
             [
              0.7777777777777778,
              "#fb9f3a"
             ],
             [
              0.8888888888888888,
              "#fdca26"
             ],
             [
              1,
              "#f0f921"
             ]
            ],
            "type": "contour"
           }
          ],
          "contourcarpet": [
           {
            "colorbar": {
             "outlinewidth": 0,
             "ticks": ""
            },
            "type": "contourcarpet"
           }
          ],
          "heatmap": [
           {
            "colorbar": {
             "outlinewidth": 0,
             "ticks": ""
            },
            "colorscale": [
             [
              0,
              "#0d0887"
             ],
             [
              0.1111111111111111,
              "#46039f"
             ],
             [
              0.2222222222222222,
              "#7201a8"
             ],
             [
              0.3333333333333333,
              "#9c179e"
             ],
             [
              0.4444444444444444,
              "#bd3786"
             ],
             [
              0.5555555555555556,
              "#d8576b"
             ],
             [
              0.6666666666666666,
              "#ed7953"
             ],
             [
              0.7777777777777778,
              "#fb9f3a"
             ],
             [
              0.8888888888888888,
              "#fdca26"
             ],
             [
              1,
              "#f0f921"
             ]
            ],
            "type": "heatmap"
           }
          ],
          "heatmapgl": [
           {
            "colorbar": {
             "outlinewidth": 0,
             "ticks": ""
            },
            "colorscale": [
             [
              0,
              "#0d0887"
             ],
             [
              0.1111111111111111,
              "#46039f"
             ],
             [
              0.2222222222222222,
              "#7201a8"
             ],
             [
              0.3333333333333333,
              "#9c179e"
             ],
             [
              0.4444444444444444,
              "#bd3786"
             ],
             [
              0.5555555555555556,
              "#d8576b"
             ],
             [
              0.6666666666666666,
              "#ed7953"
             ],
             [
              0.7777777777777778,
              "#fb9f3a"
             ],
             [
              0.8888888888888888,
              "#fdca26"
             ],
             [
              1,
              "#f0f921"
             ]
            ],
            "type": "heatmapgl"
           }
          ],
          "histogram": [
           {
            "marker": {
             "pattern": {
              "fillmode": "overlay",
              "size": 10,
              "solidity": 0.2
             }
            },
            "type": "histogram"
           }
          ],
          "histogram2d": [
           {
            "colorbar": {
             "outlinewidth": 0,
             "ticks": ""
            },
            "colorscale": [
             [
              0,
              "#0d0887"
             ],
             [
              0.1111111111111111,
              "#46039f"
             ],
             [
              0.2222222222222222,
              "#7201a8"
             ],
             [
              0.3333333333333333,
              "#9c179e"
             ],
             [
              0.4444444444444444,
              "#bd3786"
             ],
             [
              0.5555555555555556,
              "#d8576b"
             ],
             [
              0.6666666666666666,
              "#ed7953"
             ],
             [
              0.7777777777777778,
              "#fb9f3a"
             ],
             [
              0.8888888888888888,
              "#fdca26"
             ],
             [
              1,
              "#f0f921"
             ]
            ],
            "type": "histogram2d"
           }
          ],
          "histogram2dcontour": [
           {
            "colorbar": {
             "outlinewidth": 0,
             "ticks": ""
            },
            "colorscale": [
             [
              0,
              "#0d0887"
             ],
             [
              0.1111111111111111,
              "#46039f"
             ],
             [
              0.2222222222222222,
              "#7201a8"
             ],
             [
              0.3333333333333333,
              "#9c179e"
             ],
             [
              0.4444444444444444,
              "#bd3786"
             ],
             [
              0.5555555555555556,
              "#d8576b"
             ],
             [
              0.6666666666666666,
              "#ed7953"
             ],
             [
              0.7777777777777778,
              "#fb9f3a"
             ],
             [
              0.8888888888888888,
              "#fdca26"
             ],
             [
              1,
              "#f0f921"
             ]
            ],
            "type": "histogram2dcontour"
           }
          ],
          "mesh3d": [
           {
            "colorbar": {
             "outlinewidth": 0,
             "ticks": ""
            },
            "type": "mesh3d"
           }
          ],
          "parcoords": [
           {
            "line": {
             "colorbar": {
              "outlinewidth": 0,
              "ticks": ""
             }
            },
            "type": "parcoords"
           }
          ],
          "pie": [
           {
            "automargin": true,
            "type": "pie"
           }
          ],
          "scatter": [
           {
            "fillpattern": {
             "fillmode": "overlay",
             "size": 10,
             "solidity": 0.2
            },
            "type": "scatter"
           }
          ],
          "scatter3d": [
           {
            "line": {
             "colorbar": {
              "outlinewidth": 0,
              "ticks": ""
             }
            },
            "marker": {
             "colorbar": {
              "outlinewidth": 0,
              "ticks": ""
             }
            },
            "type": "scatter3d"
           }
          ],
          "scattercarpet": [
           {
            "marker": {
             "colorbar": {
              "outlinewidth": 0,
              "ticks": ""
             }
            },
            "type": "scattercarpet"
           }
          ],
          "scattergeo": [
           {
            "marker": {
             "colorbar": {
              "outlinewidth": 0,
              "ticks": ""
             }
            },
            "type": "scattergeo"
           }
          ],
          "scattergl": [
           {
            "marker": {
             "colorbar": {
              "outlinewidth": 0,
              "ticks": ""
             }
            },
            "type": "scattergl"
           }
          ],
          "scattermapbox": [
           {
            "marker": {
             "colorbar": {
              "outlinewidth": 0,
              "ticks": ""
             }
            },
            "type": "scattermapbox"
           }
          ],
          "scatterpolar": [
           {
            "marker": {
             "colorbar": {
              "outlinewidth": 0,
              "ticks": ""
             }
            },
            "type": "scatterpolar"
           }
          ],
          "scatterpolargl": [
           {
            "marker": {
             "colorbar": {
              "outlinewidth": 0,
              "ticks": ""
             }
            },
            "type": "scatterpolargl"
           }
          ],
          "scatterternary": [
           {
            "marker": {
             "colorbar": {
              "outlinewidth": 0,
              "ticks": ""
             }
            },
            "type": "scatterternary"
           }
          ],
          "surface": [
           {
            "colorbar": {
             "outlinewidth": 0,
             "ticks": ""
            },
            "colorscale": [
             [
              0,
              "#0d0887"
             ],
             [
              0.1111111111111111,
              "#46039f"
             ],
             [
              0.2222222222222222,
              "#7201a8"
             ],
             [
              0.3333333333333333,
              "#9c179e"
             ],
             [
              0.4444444444444444,
              "#bd3786"
             ],
             [
              0.5555555555555556,
              "#d8576b"
             ],
             [
              0.6666666666666666,
              "#ed7953"
             ],
             [
              0.7777777777777778,
              "#fb9f3a"
             ],
             [
              0.8888888888888888,
              "#fdca26"
             ],
             [
              1,
              "#f0f921"
             ]
            ],
            "type": "surface"
           }
          ],
          "table": [
           {
            "cells": {
             "fill": {
              "color": "#EBF0F8"
             },
             "line": {
              "color": "white"
             }
            },
            "header": {
             "fill": {
              "color": "#C8D4E3"
             },
             "line": {
              "color": "white"
             }
            },
            "type": "table"
           }
          ]
         },
         "layout": {
          "annotationdefaults": {
           "arrowcolor": "#2a3f5f",
           "arrowhead": 0,
           "arrowwidth": 1
          },
          "autotypenumbers": "strict",
          "coloraxis": {
           "colorbar": {
            "outlinewidth": 0,
            "ticks": ""
           }
          },
          "colorscale": {
           "diverging": [
            [
             0,
             "#8e0152"
            ],
            [
             0.1,
             "#c51b7d"
            ],
            [
             0.2,
             "#de77ae"
            ],
            [
             0.3,
             "#f1b6da"
            ],
            [
             0.4,
             "#fde0ef"
            ],
            [
             0.5,
             "#f7f7f7"
            ],
            [
             0.6,
             "#e6f5d0"
            ],
            [
             0.7,
             "#b8e186"
            ],
            [
             0.8,
             "#7fbc41"
            ],
            [
             0.9,
             "#4d9221"
            ],
            [
             1,
             "#276419"
            ]
           ],
           "sequential": [
            [
             0,
             "#0d0887"
            ],
            [
             0.1111111111111111,
             "#46039f"
            ],
            [
             0.2222222222222222,
             "#7201a8"
            ],
            [
             0.3333333333333333,
             "#9c179e"
            ],
            [
             0.4444444444444444,
             "#bd3786"
            ],
            [
             0.5555555555555556,
             "#d8576b"
            ],
            [
             0.6666666666666666,
             "#ed7953"
            ],
            [
             0.7777777777777778,
             "#fb9f3a"
            ],
            [
             0.8888888888888888,
             "#fdca26"
            ],
            [
             1,
             "#f0f921"
            ]
           ],
           "sequentialminus": [
            [
             0,
             "#0d0887"
            ],
            [
             0.1111111111111111,
             "#46039f"
            ],
            [
             0.2222222222222222,
             "#7201a8"
            ],
            [
             0.3333333333333333,
             "#9c179e"
            ],
            [
             0.4444444444444444,
             "#bd3786"
            ],
            [
             0.5555555555555556,
             "#d8576b"
            ],
            [
             0.6666666666666666,
             "#ed7953"
            ],
            [
             0.7777777777777778,
             "#fb9f3a"
            ],
            [
             0.8888888888888888,
             "#fdca26"
            ],
            [
             1,
             "#f0f921"
            ]
           ]
          },
          "colorway": [
           "#636efa",
           "#EF553B",
           "#00cc96",
           "#ab63fa",
           "#FFA15A",
           "#19d3f3",
           "#FF6692",
           "#B6E880",
           "#FF97FF",
           "#FECB52"
          ],
          "font": {
           "color": "#2a3f5f"
          },
          "geo": {
           "bgcolor": "white",
           "lakecolor": "white",
           "landcolor": "#E5ECF6",
           "showlakes": true,
           "showland": true,
           "subunitcolor": "white"
          },
          "hoverlabel": {
           "align": "left"
          },
          "hovermode": "closest",
          "mapbox": {
           "style": "light"
          },
          "paper_bgcolor": "white",
          "plot_bgcolor": "#E5ECF6",
          "polar": {
           "angularaxis": {
            "gridcolor": "white",
            "linecolor": "white",
            "ticks": ""
           },
           "bgcolor": "#E5ECF6",
           "radialaxis": {
            "gridcolor": "white",
            "linecolor": "white",
            "ticks": ""
           }
          },
          "scene": {
           "xaxis": {
            "backgroundcolor": "#E5ECF6",
            "gridcolor": "white",
            "gridwidth": 2,
            "linecolor": "white",
            "showbackground": true,
            "ticks": "",
            "zerolinecolor": "white"
           },
           "yaxis": {
            "backgroundcolor": "#E5ECF6",
            "gridcolor": "white",
            "gridwidth": 2,
            "linecolor": "white",
            "showbackground": true,
            "ticks": "",
            "zerolinecolor": "white"
           },
           "zaxis": {
            "backgroundcolor": "#E5ECF6",
            "gridcolor": "white",
            "gridwidth": 2,
            "linecolor": "white",
            "showbackground": true,
            "ticks": "",
            "zerolinecolor": "white"
           }
          },
          "shapedefaults": {
           "line": {
            "color": "#2a3f5f"
           }
          },
          "ternary": {
           "aaxis": {
            "gridcolor": "white",
            "linecolor": "white",
            "ticks": ""
           },
           "baxis": {
            "gridcolor": "white",
            "linecolor": "white",
            "ticks": ""
           },
           "bgcolor": "#E5ECF6",
           "caxis": {
            "gridcolor": "white",
            "linecolor": "white",
            "ticks": ""
           }
          },
          "title": {
           "x": 0.05
          },
          "xaxis": {
           "automargin": true,
           "gridcolor": "white",
           "linecolor": "white",
           "ticks": "",
           "title": {
            "standoff": 15
           },
           "zerolinecolor": "white",
           "zerolinewidth": 2
          },
          "yaxis": {
           "automargin": true,
           "gridcolor": "white",
           "linecolor": "white",
           "ticks": "",
           "title": {
            "standoff": 15
           },
           "zerolinecolor": "white",
           "zerolinewidth": 2
          }
         }
        },
        "title": {
         "text": "Bar Plot"
        },
        "xaxis": {
         "anchor": "y",
         "domain": [
          0,
          1
         ],
         "title": {
          "text": "Category"
         }
        },
        "yaxis": {
         "anchor": "x",
         "domain": [
          0,
          1
         ],
         "title": {
          "text": "Values"
         }
        }
       }
      }
     },
     "metadata": {},
     "output_type": "display_data"
    }
   ],
   "source": [
    "'''     5. Generate a bar plot using Plotly?    '''\n",
    "import plotly.express as px\n",
    "import pandas as pd\n",
    "\n",
    "# Sample DataFrame\n",
    "df = pd.DataFrame({'Category': ['A', 'B', 'C', 'D'], 'Values': [10, 15, 7, 12]})\n",
    "\n",
    "# Create bar plot\n",
    "fig = px.bar(df, x='Category', y='Values', title=\"Bar Plot\")\n",
    "fig.show()"
   ]
  },
  {
   "cell_type": "code",
   "execution_count": 3,
   "metadata": {},
   "outputs": [
    {
     "name": "stdout",
     "output_type": "stream",
     "text": [
      "      Name  Age  Age in 10 years\n",
      "0    Alice   25               35\n",
      "1      Bob   30               40\n",
      "2  Charlie   35               45\n"
     ]
    }
   ],
   "source": [
    "'''   6. Create a DataFrame and add a new column based on an existing column? '''\n",
    "import pandas as pd\n",
    "\n",
    "# Sample DataFrame\n",
    "df = pd.DataFrame({'Name': ['Alice', 'Bob', 'Charlie'], 'Age': [25, 30, 35]})\n",
    "\n",
    "# Add new column 'Age in 10 years'\n",
    "df['Age in 10 years'] = df['Age'] + 10\n",
    "\n",
    "print(df)"
   ]
  },
  {
   "cell_type": "code",
   "execution_count": 4,
   "metadata": {},
   "outputs": [
    {
     "name": "stdout",
     "output_type": "stream",
     "text": [
      "Element-wise multiplication: [ 4 10 18]\n"
     ]
    }
   ],
   "source": [
    "''' 7. Perform element-wise multiplication of two NumPy arrays? '''\n",
    "import numpy as np\n",
    "\n",
    "# Create two NumPy arrays\n",
    "arr1 = np.array([1, 2, 3])\n",
    "arr2 = np.array([4, 5, 6])\n",
    "\n",
    "# Element-wise multiplication\n",
    "result = arr1 * arr2\n",
    "\n",
    "print(\"Element-wise multiplication:\", result)"
   ]
  },
  {
   "cell_type": "code",
   "execution_count": 5,
   "metadata": {},
   "outputs": [
    {
     "data": {
      "image/png": "[encoded data removed]",
      "text/plain": [
       "<Figure size 640x480 with 1 Axes>"
      ]
     },
     "metadata": {},
     "output_type": "display_data"
    }
   ],
   "source": [
    "'''    8. Create a line plot with multiple lines using Matplotlib?  '''\n",
    "import matplotlib.pyplot as plt\n",
    "import numpy as np\n",
    "\n",
    "# Sample data\n",
    "x = np.linspace(0, 10, 100)\n",
    "y1 = np.sin(x)\n",
    "y2 = np.cos(x)\n",
    "\n",
    "# Plot\n",
    "plt.plot(x, y1, label=\"sin(x)\", color='blue')\n",
    "plt.plot(x, y2, label=\"cos(x)\", color='red')\n",
    "\n",
    "plt.xlabel(\"X-axis\")\n",
    "plt.ylabel(\"Y-axis\")\n",
    "plt.title(\"Line Plot with Multiple Lines\")\n",
    "plt.legend()\n",
    "plt.show()"
   ]
  },
  {
   "cell_type": "code",
   "execution_count": 6,
   "metadata": {},
   "outputs": [
    {
     "name": "stdout",
     "output_type": "stream",
     "text": [
      "      Name  Score\n",
      "0    Alice     85\n",
      "2  Charlie     90\n"
     ]
    }
   ],
   "source": [
    "'''    9. Generate a Pandas DataFrame and filter rows where a column value is greater than a threshold?   '''\n",
    "import pandas as pd\n",
    "\n",
    "# Sample DataFrame\n",
    "df = pd.DataFrame({'Name': ['Alice', 'Bob', 'Charlie'], 'Score': [85, 70, 90]})\n",
    "\n",
    "# Filter rows where 'Score' is greater than 80\n",
    "filtered_df = df[df['Score'] > 80]\n",
    "\n",
    "print(filtered_df)"
   ]
  },
  {
   "cell_type": "code",
   "execution_count": 7,
   "metadata": {},
   "outputs": [
    {
     "data": {
      "image/png": "[encoded data removed]",
      "text/plain": [
       "<Figure size 640x480 with 1 Axes>"
      ]
     },
     "metadata": {},
     "output_type": "display_data"
    }
   ],
   "source": [
    "'''   10. Create a histogram using Seaborn to visualize a distribution?   '''\n",
    "import seaborn as sns\n",
    "import numpy as np\n",
    "import matplotlib.pyplot as plt\n",
    "\n",
    "# Sample data\n",
    "data = np.random.randn(1000)\n",
    "\n",
    "# Create histogram\n",
    "sns.histplot(data, bins=30, kde=True)\n",
    "plt.title(\"Histogram of Random Data\")\n",
    "plt.show()"
   ]
  },
  {
   "cell_type": "code",
   "execution_count": 8,
   "metadata": {},
   "outputs": [
    {
     "name": "stdout",
     "output_type": "stream",
     "text": [
      "Matrix Multiplication Result:\n",
      " [[19 22]\n",
      " [43 50]]\n"
     ]
    }
   ],
   "source": [
    "'''  11. Perform matrix multiplication using NumPy?  '''\n",
    "import numpy as np\n",
    "\n",
    "# Create two matrices\n",
    "A = np.array([[1, 2], [3, 4]])\n",
    "B = np.array([[5, 6], [7, 8]])\n",
    "\n",
    "# Matrix multiplication\n",
    "result = np.dot(A, B)\n",
    "\n",
    "print(\"Matrix Multiplication Result:\\n\", result)\n"
   ]
  },
  {
   "cell_type": "code",
   "execution_count": 10,
   "metadata": {},
   "outputs": [
    {
     "name": "stdout",
     "output_type": "stream",
     "text": [
      "   ID     Name  Age  Score         City\n",
      "0   1    Alice   25     85     New York\n",
      "1   2      Bob   30     90  Los Angeles\n",
      "2   3  Charlie   22     78      Chicago\n",
      "3   4    David   28     92      Houston\n",
      "4   5      Eva   35     88        Miami\n"
     ]
    }
   ],
   "source": [
    "'''  12. Use Pandas to load a CSV file and display its first 5 rows? '''\n",
    "import pandas as pd\n",
    "\n",
    "# Load CSV file\n",
    "df = pd.read_csv(\"data.csv\")\n",
    "\n",
    "# Display first 5 rows\n",
    "print(df.head())"
   ]
  },
  {
   "cell_type": "code",
   "execution_count": 9,
   "metadata": {},
   "outputs": [
    {
     "data": {
      "application/vnd.plotly.v1+json": {
       "config": {
        "plotlyServerURL": "https://plot.ly"
       },
       "data": [
        {
         "hovertemplate": "X=%{x}<br>Y=%{y}<br>Z=%{z}<extra></extra>",
         "legendgroup": "",
         "marker": {
          "color": "#636efa",
          "symbol": "circle"
         },
         "mode": "markers",
         "name": "",
         "scene": "scene",
         "showlegend": false,
         "type": "scatter3d",
         "x": [
          0.3274352623782455,
          0.25640067216770324,
          0.575011961365489,
          0.767680781445267,
          0.007356836418623169,
          0.4036845939585775,
          0.2977844201459109,
          0.7579434831433379,
          0.9520654624378415,
          0.6858959817471472,
          0.7723755580525433,
          0.9109803785295956,
          0.05672542028374983,
          0.39738108563551444,
          0.14921943610563215,
          0.9304362757719221,
          0.13056124453068418,
          0.1594859720389028,
          0.9232747862602629,
          0.31149908725759945,
          0.8126721603628443,
          0.756485356949955,
          0.407017276267264,
          0.23008088536577787,
          0.20602933691080205,
          0.5396331972091245,
          0.5629250368462603,
          0.328914819093854,
          0.4056531624840868,
          0.46638484554677573,
          0.7471388215866016,
          0.708150671382111,
          0.24094604794134933,
          0.43337717059999714,
          0.9443408435335345,
          0.17743089472943863,
          0.152821462746895,
          0.5940048113583726,
          0.8787667710143044,
          0.5705328429245954,
          0.016272445624948007,
          0.28962506965006574,
          0.4721518621024763,
          0.15431155019281007,
          0.006651420602500235,
          0.5288715679878938,
          0.316131437042214,
          0.99350439507645,
          0.7130705758208529,
          0.3311124439269957
         ],
         "y": [
          0.7898361472396891,
          0.8235263386541826,
          0.5871484594080477,
          0.05917932677421012,
          0.007900403563665948,
          0.10197235207298239,
          0.9872457407591828,
          0.011643843929035724,
          0.04397939433347464,
          0.42715722733301886,
          0.8862009992689314,
          0.8398261734810089,
          0.2605125525911651,
          0.15065976724046493,
          0.5157508143784479,
          0.12069610920757501,
          0.12556335155003184,
          0.34095666932983804,
          0.5047330057221949,
          0.3828760411133816,
          0.2103348791176639,
          0.38722476781106596,
          0.8219368961891047,
          0.01733539686448715,
          0.7358570546849229,
          0.39906662502661905,
          0.8303772781384575,
          0.9029524046850851,
          0.9873003891151995,
          0.2174861482936059,
          0.5805620164286527,
          0.8115402024663231,
          0.3572538817546921,
          0.05412108052754405,
          0.370058465078107,
          0.9852593497713492,
          0.15326608253184737,
          0.06854353173217975,
          0.0916606941129392,
          0.311546760743868,
          0.3062406662911078,
          0.3164206687185954,
          0.43800990782868876,
          0.2182877218429533,
          0.09626905572006272,
          0.5588708927673753,
          0.6805717613847561,
          0.9696192218195624,
          0.1349517587209642,
          0.1541024332268046
         ],
         "z": [
          0.9234860843350782,
          0.4373806574373058,
          0.5618069793233865,
          0.47508516812559853,
          0.24672312609928226,
          0.7973371348935226,
          0.9025744342420102,
          0.8926518676087727,
          0.7820572170241821,
          0.11008661214301907,
          0.8563302470703946,
          0.1050200693625849,
          0.39793999540036507,
          0.8399713214817918,
          0.36845415188985375,
          0.6896203167432002,
          0.13683290733474374,
          0.6433246026741337,
          0.42381383000236783,
          0.8467103220337592,
          0.44751230420700416,
          0.6456112780007978,
          0.5748170684659711,
          0.734542605257205,
          0.7033568770701645,
          0.6744002315859305,
          0.5895814035054214,
          0.22770730108740755,
          0.31967241385355605,
          0.3220797793993574,
          0.4640939271986547,
          0.9674827977791373,
          0.6010998897412417,
          0.8268557559617933,
          0.5421877632863622,
          0.8592704161526683,
          0.6846464947862807,
          0.02861549992000645,
          0.4438750506222465,
          0.1315705252336683,
          0.8744771815380946,
          0.13307482645387914,
          0.6209162325737231,
          0.9876458769035519,
          0.2547002882994034,
          0.393035617161115,
          0.7221043489307076,
          0.8146496246225633,
          0.015998816715707465,
          0.391810597448489
         ]
        }
       ],
       "layout": {
        "legend": {
         "tracegroupgap": 0
        },
        "scene": {
         "domain": {
          "x": [
           0,
           1
          ],
          "y": [
           0,
           1
          ]
         },
         "xaxis": {
          "title": {
           "text": "X"
          }
         },
         "yaxis": {
          "title": {
           "text": "Y"
          }
         },
         "zaxis": {
          "title": {
           "text": "Z"
          }
         }
        },
        "template": {
         "data": {
          "bar": [
           {
            "error_x": {
             "color": "#2a3f5f"
            },
            "error_y": {
             "color": "#2a3f5f"
            },
            "marker": {
             "line": {
              "color": "#E5ECF6",
              "width": 0.5
             },
             "pattern": {
              "fillmode": "overlay",
              "size": 10,
              "solidity": 0.2
             }
            },
            "type": "bar"
           }
          ],
          "barpolar": [
           {
            "marker": {
             "line": {
              "color": "#E5ECF6",
              "width": 0.5
             },
             "pattern": {
              "fillmode": "overlay",
              "size": 10,
              "solidity": 0.2
             }
            },
            "type": "barpolar"
           }
          ],
          "carpet": [
           {
            "aaxis": {
             "endlinecolor": "#2a3f5f",
             "gridcolor": "white",
             "linecolor": "white",
             "minorgridcolor": "white",
             "startlinecolor": "#2a3f5f"
            },
            "baxis": {
             "endlinecolor": "#2a3f5f",
             "gridcolor": "white",
             "linecolor": "white",
             "minorgridcolor": "white",
             "startlinecolor": "#2a3f5f"
            },
            "type": "carpet"
           }
          ],
          "choropleth": [
           {
            "colorbar": {
             "outlinewidth": 0,
             "ticks": ""
            },
            "type": "choropleth"
           }
          ],
          "contour": [
           {
            "colorbar": {
             "outlinewidth": 0,
             "ticks": ""
            },
            "colorscale": [
             [
              0,
              "#0d0887"
             ],
             [
              0.1111111111111111,
              "#46039f"
             ],
             [
              0.2222222222222222,
              "#7201a8"
             ],
             [
              0.3333333333333333,
              "#9c179e"
             ],
             [
              0.4444444444444444,
              "#bd3786"
             ],
             [
              0.5555555555555556,
              "#d8576b"
             ],
             [
              0.6666666666666666,
              "#ed7953"
             ],
             [
              0.7777777777777778,
              "#fb9f3a"
             ],
             [
              0.8888888888888888,
              "#fdca26"
             ],
             [
              1,
              "#f0f921"
             ]
            ],
            "type": "contour"
           }
          ],
          "contourcarpet": [
           {
            "colorbar": {
             "outlinewidth": 0,
             "ticks": ""
            },
            "type": "contourcarpet"
           }
          ],
          "heatmap": [
           {
            "colorbar": {
             "outlinewidth": 0,
             "ticks": ""
            },
            "colorscale": [
             [
              0,
              "#0d0887"
             ],
             [
              0.1111111111111111,
              "#46039f"
             ],
             [
              0.2222222222222222,
              "#7201a8"
             ],
             [
              0.3333333333333333,
              "#9c179e"
             ],
             [
              0.4444444444444444,
              "#bd3786"
             ],
             [
              0.5555555555555556,
              "#d8576b"
             ],
             [
              0.6666666666666666,
              "#ed7953"
             ],
             [
              0.7777777777777778,
              "#fb9f3a"
             ],
             [
              0.8888888888888888,
              "#fdca26"
             ],
             [
              1,
              "#f0f921"
             ]
            ],
            "type": "heatmap"
           }
          ],
          "heatmapgl": [
           {
            "colorbar": {
             "outlinewidth": 0,
             "ticks": ""
            },
            "colorscale": [
             [
              0,
              "#0d0887"
             ],
             [
              0.1111111111111111,
              "#46039f"
             ],
             [
              0.2222222222222222,
              "#7201a8"
             ],
             [
              0.3333333333333333,
              "#9c179e"
             ],
             [
              0.4444444444444444,
              "#bd3786"
             ],
             [
              0.5555555555555556,
              "#d8576b"
             ],
             [
              0.6666666666666666,
              "#ed7953"
             ],
             [
              0.7777777777777778,
              "#fb9f3a"
             ],
             [
              0.8888888888888888,
              "#fdca26"
             ],
             [
              1,
              "#f0f921"
             ]
            ],
            "type": "heatmapgl"
           }
          ],
          "histogram": [
           {
            "marker": {
             "pattern": {
              "fillmode": "overlay",
              "size": 10,
              "solidity": 0.2
             }
            },
            "type": "histogram"
           }
          ],
          "histogram2d": [
           {
            "colorbar": {
             "outlinewidth": 0,
             "ticks": ""
            },
            "colorscale": [
             [
              0,
              "#0d0887"
             ],
             [
              0.1111111111111111,
              "#46039f"
             ],
             [
              0.2222222222222222,
              "#7201a8"
             ],
             [
              0.3333333333333333,
              "#9c179e"
             ],
             [
              0.4444444444444444,
              "#bd3786"
             ],
             [
              0.5555555555555556,
              "#d8576b"
             ],
             [
              0.6666666666666666,
              "#ed7953"
             ],
             [
              0.7777777777777778,
              "#fb9f3a"
             ],
             [
              0.8888888888888888,
              "#fdca26"
             ],
             [
              1,
              "#f0f921"
             ]
            ],
            "type": "histogram2d"
           }
          ],
          "histogram2dcontour": [
           {
            "colorbar": {
             "outlinewidth": 0,
             "ticks": ""
            },
            "colorscale": [
             [
              0,
              "#0d0887"
             ],
             [
              0.1111111111111111,
              "#46039f"
             ],
             [
              0.2222222222222222,
              "#7201a8"
             ],
             [
              0.3333333333333333,
              "#9c179e"
             ],
             [
              0.4444444444444444,
              "#bd3786"
             ],
             [
              0.5555555555555556,
              "#d8576b"
             ],
             [
              0.6666666666666666,
              "#ed7953"
             ],
             [
              0.7777777777777778,
              "#fb9f3a"
             ],
             [
              0.8888888888888888,
              "#fdca26"
             ],
             [
              1,
              "#f0f921"
             ]
            ],
            "type": "histogram2dcontour"
           }
          ],
          "mesh3d": [
           {
            "colorbar": {
             "outlinewidth": 0,
             "ticks": ""
            },
            "type": "mesh3d"
           }
          ],
          "parcoords": [
           {
            "line": {
             "colorbar": {
              "outlinewidth": 0,
              "ticks": ""
             }
            },
            "type": "parcoords"
           }
          ],
          "pie": [
           {
            "automargin": true,
            "type": "pie"
           }
          ],
          "scatter": [
           {
            "fillpattern": {
             "fillmode": "overlay",
             "size": 10,
             "solidity": 0.2
            },
            "type": "scatter"
           }
          ],
          "scatter3d": [
           {
            "line": {
             "colorbar": {
              "outlinewidth": 0,
              "ticks": ""
             }
            },
            "marker": {
             "colorbar": {
              "outlinewidth": 0,
              "ticks": ""
             }
            },
            "type": "scatter3d"
           }
          ],
          "scattercarpet": [
           {
            "marker": {
             "colorbar": {
              "outlinewidth": 0,
              "ticks": ""
             }
            },
            "type": "scattercarpet"
           }
          ],
          "scattergeo": [
           {
            "marker": {
             "colorbar": {
              "outlinewidth": 0,
              "ticks": ""
             }
            },
            "type": "scattergeo"
           }
          ],
          "scattergl": [
           {
            "marker": {
             "colorbar": {
              "outlinewidth": 0,
              "ticks": ""
             }
            },
            "type": "scattergl"
           }
          ],
          "scattermapbox": [
           {
            "marker": {
             "colorbar": {
              "outlinewidth": 0,
              "ticks": ""
             }
            },
            "type": "scattermapbox"
           }
          ],
          "scatterpolar": [
           {
            "marker": {
             "colorbar": {
              "outlinewidth": 0,
              "ticks": ""
             }
            },
            "type": "scatterpolar"
           }
          ],
          "scatterpolargl": [
           {
            "marker": {
             "colorbar": {
              "outlinewidth": 0,
              "ticks": ""
             }
            },
            "type": "scatterpolargl"
           }
          ],
          "scatterternary": [
           {
            "marker": {
             "colorbar": {
              "outlinewidth": 0,
              "ticks": ""
             }
            },
            "type": "scatterternary"
           }
          ],
          "surface": [
           {
            "colorbar": {
             "outlinewidth": 0,
             "ticks": ""
            },
            "colorscale": [
             [
              0,
              "#0d0887"
             ],
             [
              0.1111111111111111,
              "#46039f"
             ],
             [
              0.2222222222222222,
              "#7201a8"
             ],
             [
              0.3333333333333333,
              "#9c179e"
             ],
             [
              0.4444444444444444,
              "#bd3786"
             ],
             [
              0.5555555555555556,
              "#d8576b"
             ],
             [
              0.6666666666666666,
              "#ed7953"
             ],
             [
              0.7777777777777778,
              "#fb9f3a"
             ],
             [
              0.8888888888888888,
              "#fdca26"
             ],
             [
              1,
              "#f0f921"
             ]
            ],
            "type": "surface"
           }
          ],
          "table": [
           {
            "cells": {
             "fill": {
              "color": "#EBF0F8"
             },
             "line": {
              "color": "white"
             }
            },
            "header": {
             "fill": {
              "color": "#C8D4E3"
             },
             "line": {
              "color": "white"
             }
            },
            "type": "table"
           }
          ]
         },
         "layout": {
          "annotationdefaults": {
           "arrowcolor": "#2a3f5f",
           "arrowhead": 0,
           "arrowwidth": 1
          },
          "autotypenumbers": "strict",
          "coloraxis": {
           "colorbar": {
            "outlinewidth": 0,
            "ticks": ""
           }
          },
          "colorscale": {
           "diverging": [
            [
             0,
             "#8e0152"
            ],
            [
             0.1,
             "#c51b7d"
            ],
            [
             0.2,
             "#de77ae"
            ],
            [
             0.3,
             "#f1b6da"
            ],
            [
             0.4,
             "#fde0ef"
            ],
            [
             0.5,
             "#f7f7f7"
            ],
            [
             0.6,
             "#e6f5d0"
            ],
            [
             0.7,
             "#b8e186"
            ],
            [
             0.8,
             "#7fbc41"
            ],
            [
             0.9,
             "#4d9221"
            ],
            [
             1,
             "#276419"
            ]
           ],
           "sequential": [
            [
             0,
             "#0d0887"
            ],
            [
             0.1111111111111111,
             "#46039f"
            ],
            [
             0.2222222222222222,
             "#7201a8"
            ],
            [
             0.3333333333333333,
             "#9c179e"
            ],
            [
             0.4444444444444444,
             "#bd3786"
            ],
            [
             0.5555555555555556,
             "#d8576b"
            ],
            [
             0.6666666666666666,
             "#ed7953"
            ],
            [
             0.7777777777777778,
             "#fb9f3a"
            ],
            [
             0.8888888888888888,
             "#fdca26"
            ],
            [
             1,
             "#f0f921"
            ]
           ],
           "sequentialminus": [
            [
             0,
             "#0d0887"
            ],
            [
             0.1111111111111111,
             "#46039f"
            ],
            [
             0.2222222222222222,
             "#7201a8"
            ],
            [
             0.3333333333333333,
             "#9c179e"
            ],
            [
             0.4444444444444444,
             "#bd3786"
            ],
            [
             0.5555555555555556,
             "#d8576b"
            ],
            [
             0.6666666666666666,
             "#ed7953"
            ],
            [
             0.7777777777777778,
             "#fb9f3a"
            ],
            [
             0.8888888888888888,
             "#fdca26"
            ],
            [
             1,
             "#f0f921"
            ]
           ]
          },
          "colorway": [
           "#636efa",
           "#EF553B",
           "#00cc96",
           "#ab63fa",
           "#FFA15A",
           "#19d3f3",
           "#FF6692",
           "#B6E880",
           "#FF97FF",
           "#FECB52"
          ],
          "font": {
           "color": "#2a3f5f"
          },
          "geo": {
           "bgcolor": "white",
           "lakecolor": "white",
           "landcolor": "#E5ECF6",
           "showlakes": true,
           "showland": true,
           "subunitcolor": "white"
          },
          "hoverlabel": {
           "align": "left"
          },
          "hovermode": "closest",
          "mapbox": {
           "style": "light"
          },
          "paper_bgcolor": "white",
          "plot_bgcolor": "#E5ECF6",
          "polar": {
           "angularaxis": {
            "gridcolor": "white",
            "linecolor": "white",
            "ticks": ""
           },
           "bgcolor": "#E5ECF6",
           "radialaxis": {
            "gridcolor": "white",
            "linecolor": "white",
            "ticks": ""
           }
          },
          "scene": {
           "xaxis": {
            "backgroundcolor": "#E5ECF6",
            "gridcolor": "white",
            "gridwidth": 2,
            "linecolor": "white",
            "showbackground": true,
            "ticks": "",
            "zerolinecolor": "white"
           },
           "yaxis": {
            "backgroundcolor": "#E5ECF6",
            "gridcolor": "white",
            "gridwidth": 2,
            "linecolor": "white",
            "showbackground": true,
            "ticks": "",
            "zerolinecolor": "white"
           },
           "zaxis": {
            "backgroundcolor": "#E5ECF6",
            "gridcolor": "white",
            "gridwidth": 2,
            "linecolor": "white",
            "showbackground": true,
            "ticks": "",
            "zerolinecolor": "white"
           }
          },
          "shapedefaults": {
           "line": {
            "color": "#2a3f5f"
           }
          },
          "ternary": {
           "aaxis": {
            "gridcolor": "white",
            "linecolor": "white",
            "ticks": ""
           },
           "baxis": {
            "gridcolor": "white",
            "linecolor": "white",
            "ticks": ""
           },
           "bgcolor": "#E5ECF6",
           "caxis": {
            "gridcolor": "white",
            "linecolor": "white",
            "ticks": ""
           }
          },
          "title": {
           "x": 0.05
          },
          "xaxis": {
           "automargin": true,
           "gridcolor": "white",
           "linecolor": "white",
           "ticks": "",
           "title": {
            "standoff": 15
           },
           "zerolinecolor": "white",
           "zerolinewidth": 2
          },
          "yaxis": {
           "automargin": true,
           "gridcolor": "white",
           "linecolor": "white",
           "ticks": "",
           "title": {
            "standoff": 15
           },
           "zerolinecolor": "white",
           "zerolinewidth": 2
          }
         }
        },
        "title": {
         "text": "3D Scatter Plot"
        }
       }
      }
     },
     "metadata": {},
     "output_type": "display_data"
    }
   ],
   "source": [
    "'''  13. Create a 3D scatter plot using Plotly? '''\n",
    "import plotly.express as px\n",
    "import pandas as pd\n",
    "import numpy as np\n",
    "\n",
    "# Sample data\n",
    "df = pd.DataFrame({\n",
    "    'X': np.random.rand(50),\n",
    "    'Y': np.random.rand(50),\n",
    "    'Z': np.random.rand(50)\n",
    "})\n",
    "\n",
    "# Create 3D scatter plot\n",
    "fig = px.scatter_3d(df, x='X', y='Y', z='Z', title=\"3D Scatter Plot\")\n",
    "fig.show()"
   ]
  },
  {
   "cell_type": "markdown",
   "metadata": {},
   "source": [
    "-   -   -   -   -   -   -   -   -   -"
   ]
  }
 ],
 "metadata": {
  "kernelspec": {
   "display_name": "base",
   "language": "python",
   "name": "python3"
  },
  "language_info": {
   "codemirror_mode": {
    "name": "ipython",
    "version": 3
   },
   "file_extension": ".py",
   "mimetype": "text/x-python",
   "name": "python",
   "nbconvert_exporter": "python",
   "pygments_lexer": "ipython3",
   "version": "3.12.7"
  }
 },
 "nbformat": 4,
 "nbformat_minor": 2
}
