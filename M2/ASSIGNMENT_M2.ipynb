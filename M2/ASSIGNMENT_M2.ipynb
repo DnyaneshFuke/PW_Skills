{
 "cells": [
  {
   "cell_type": "markdown",
   "metadata": {},
   "source": [
    "#   MODULE_2: ASSIGNMENT."
   ]
  },
  {
   "cell_type": "markdown",
   "metadata": {},
   "source": [
    "================================================================================================================================================="
   ]
  },
  {
   "cell_type": "markdown",
   "metadata": {},
   "source": [
    "#   Python Basics Questions"
   ]
  },
  {
   "cell_type": "markdown",
   "metadata": {},
   "source": [
    "1.What is Python, and why is it popular?\n",
    "-   Python is a high-level, interpreted programming language known for  simplicity and readability.  It is object oriented means modeling real-world entities and their behaviors in code. \n",
    "-   It is popular because of It's easy to learn and use.\n",
    "-   It has a vast ecosystem for web development, data analysis, machine learning, and automation.\n",
    "-   It's open-source and cross-platform.\n",
    "-   Python is widely popular for AI, Machine Learning (ML), and scientific computing due to its extensive libraries and ability to handle large datasets and complex calculations efficiently.\n",
    "\n",
    "2.What is an interpreter in Python?\n",
    "-    An interpreter is a program that reads and runs Python code line by line. Unlike a compiler, which translates the whole program at once, an interpreter processes each line one by one and executes it immediately.\n",
    "-   This makes Python easy to work with because you can write code and see the results right away, without needing to compile the whole program first.\n",
    "-   The interpreter also provides error messages that help you identify and fix mistakes in your code.\n",
    "-   Types of Python Interpreters:\n",
    "-   1.CPython: The default and most widely used Python interpreter, written in C.\n",
    "-   2.PyPy: A high-performance interpreter with Just-In-Time (JIT) compilation for faster execution.\n",
    "-   3.Jython: An implementation of Python that runs on the Java Virtual Machine (JVM).\n",
    "-   4.IronPython: An implementation of Python for the .NET framework.\n",
    "\n",
    "3.What are pre-defined keywords in Python?\n",
    "-   Pre-defined keywords in Python are reserved words that are integral to the syntax of the language. These keywords cannot be used as variable names because they have specific meanings. Examples include if, else, while, for, def, True, False, and None.\n",
    "-   These keywords are used to define the structure and flow of a program, making it easier to write and understand Python code.\n",
    "-   we can see all keyword with \"help(\"keywords\")\"\n",
    "\n",
    "4.Can keywords be used as variable names?\n",
    "-   No, keywords cannot be used as variable names in Python. They are reserved for the language\n",
    "-   If you try to use a keyword as a variable name, you will get a SyntaxError\n",
    "-   For example, if you try to use \"if\" as a variable name, you will get a SyntaxError: invalid syntax\n",
    "\n",
    "5.What is mutability in Python?\n",
    "-   Mutability in Python refers to the ability of an object to be modified after it has been\n",
    "created.\n",
    "-   Mutable objects like lists and dictionaries can have their contents modified after their creation\n",
    "-   Immutable objects like integers and strings cannot be modified after their creation.\n",
    "-   mutable objects in Python can be modified at the memory level without changing their reference in memory. This means when you make changes to a mutable object, like a list or dictionary, the changes are applied directly to the same object in memory, rather than creating a new object.\n",
    "\n",
    "6.Why are lists mutable, but tuples are immutable?\n",
    "-   Lists are mutable because they are implemented as dynamic arrays, which can be resized and modified at\n",
    "runtime.\n",
    "-   Tuples are immutable because they are implemented as static arrays, which cannot be resized or modified\n",
    "at runtime.\n",
    "-   This means that once a tuple is created, its contents cannot be changed, whereas a list\n",
    "can be modified after it has been created.\n",
    "-   This immutability ensures that tuples are used for fixed collections of items, which can be beneficial in certain scenarios, such as when used as dictionary keys.\n",
    "\n",
    "7.What is the difference between “==” and “is” operators in Python?\n",
    "-   The “==” operator checks for equality between two objects, which means it checks if the\n",
    "values of the objects are the same.\n",
    "-   The “is” operator checks for identity between two objects, which means it checks if the\n",
    "objects are the same instance in memory.\n",
    "-   For example, if you have two lists that contain the same elements, “==” will\n",
    "return True, but “is” will return False because the lists are not the same instance in memory\n",
    "-   However, if you have two variables that point to the same list, “is” will\n",
    "return True because the variables point to the same instance in memory.\n",
    "\n",
    "8.What are logical operators in Python?\n",
    "-   Logical operators in Python are used to combine multiple conditions in a conditional statement.\n",
    "-   They are used to evaluate the truth value of a condition.\n",
    "-   The logical operators in Python are:\n",
    "-   and: Returns True if both conditions are True.\n",
    "-   or: Returns True if either condition is True.\n",
    "-   not: Returns True if the condition is False.\n",
    "-   These operators are used to create complex conditions in Python, making it easier to write and understand\n",
    "code.\n",
    "\n",
    "9.What is type casting in Python?\n",
    "-   Type casting in Python is the process of converting a value from one data type to another.\n",
    "-   It is also known as type conversion.\n",
    "-   Type casting can be done explicitly using functions like int(), float(), str(), etc.\n",
    "-   Type casting can also be done implicitly by Python automatically converts a value from one data type to another without requiring explicit instructions.\n",
    "\n",
    "\n",
    "10.What is the difference between implicit and explicit type casting?\n",
    "-   1.Implicit type casting is when Python automatically converts a value from one data type to another without\n",
    "the need for an explicit function call.\n",
    "- For example \n",
    "-   -num_int = 10  # Integer\n",
    "-   -num_float = 2.5  # Float\n",
    "-   -result = num_int + num_float  \n",
    "-   -print(result)  # Output: 12.5\n",
    "-   -print(type(result))  # Output: <class 'float'>\n",
    "\n",
    "-   2.Explicit type casting is when you use a function like int() or float() to convert a\n",
    "value from one data type to another.\n",
    "-   -num_int = 10  # Integer\n",
    "-   -num_str = str(num_int)  # Explicitly convert integer to string\n",
    "-   -print(num_str)  # Output: \"10\"\n",
    "-   -print(type(num_str))  # Output: <class 'str'>\n",
    "\n",
    "11.What is the purpose of conditional statements in Python?\n",
    "-   Conditional statements in Python are used to control the flow of a program based on certain conditions.\n",
    "-   They are used to execute different blocks of code based on the value of a variable or the\n",
    "result of an expression.\n",
    "-   The purpose of conditional statements is to make the program more dynamic and flexible.\n",
    "-   They are used to handle different scenarios and make decisions based on the input or the state of\n",
    "the program.\n",
    "- In python we implements conditional logic using the if, else, and elif statements.\n",
    "\n",
    "12.How does the elif statement work?\n",
    "-   The elif statement in Python is used to check for an alternative condition if the initial condition\n",
    "is false.\n",
    "-   It is used to check for multiple conditions and execute different blocks of code based on the\n",
    "condition.\n",
    "-   The program first evaluates the condition in the \"if\" statement.\n",
    "-   If the \"if\" condition is False, the program moves to the next \"elif\" condition and evaluates it.\n",
    "-   If an \"elif\" condition is True, its block of code is executed, and the remaining conditions are skipped.\n",
    "-   If none of the if or \"elif\" conditions are True, the optional \"else\" block (if present) is executed.\n",
    "\n",
    "13.What is the difference between for and while loops?\n",
    "-   1.For loops are used to iterate over a sequence (such as a list, tuple\n",
    "or string) and execute a block of code for each item in the sequence.\n",
    "-   The for loop is used when you know how many times you want to execute a block of code.\n",
    "-   -   For example, we can use a for loop to iterate over a list of numbers\n",
    "-   -   -numbers = [1, 2, 3, 4,5]\n",
    "-   -   -for num in numbers:\n",
    "-   -   -print(num)\n",
    "-   -   -print(\"Loop finished\")  # Output: Loop finished\n",
    "-   2.While loops are used to execute a block of code repeatedly as long as a certain\n",
    "condition is true.\n",
    "-   The while loop is used when you don't know in advance how many times you want to execute a block of code.\n",
    "-   -   For example, we can use a while loop to print numbers from 1 to\n",
    "-   -   -num = 1\n",
    "-   -   -while num <= 10:\n",
    "-   -   -print(num)\n",
    "-   -   -num += 1\n",
    "-   -   -print(\"Loop finished\")  # Output: Loop finished\n",
    "\n",
    "14.Describe a scenario where a while loop is more suitable than a for loop.\n",
    "-   A while loop is more suitable than a for loop when you don't know in advance how\n",
    "many times you want to execute a block of code.\n",
    "-   For example, you are writing a program that needs to keep asking the user for input until\n",
    "they enter a valid number.\n",
    "-   -   -while True:\n",
    "-   -   -user_input = input(\"Please enter a number: \")\n",
    "-   -   -try:\n",
    "-   -   -    num = int(user_input)\n",
    "-   -   -except ValueError:\n",
    "-   -   -    print(\"Invalid input. Please try again.\")\n",
    "-   -   -else:\n",
    "-   -   -    print(\"You entered:\", num)\n",
    "-   -   -    break\n",
    "-   -   -print(\"Loop finished\")  # Output: Loop finished\n",
    "-   In this scenario, a while loop is more suitable because we don't know in advance how\n",
    "many times the user will enter invalid input before entering a valid number.\n"
   ]
  },
  {
   "cell_type": "markdown",
   "metadata": {},
   "source": [
    "-------------------------------------------------------------------------------------------------------------------------------------------------"
   ]
  },
  {
   "cell_type": "markdown",
   "metadata": {},
   "source": [
    "#   Practical Questions"
   ]
  },
  {
   "cell_type": "code",
   "execution_count": 1,
   "metadata": {},
   "outputs": [
    {
     "name": "stdout",
     "output_type": "stream",
     "text": [
      "Hello, World!\n"
     ]
    }
   ],
   "source": [
    "# 1. Write a Python program to print \"Hello, World!.\n",
    "print(\"Hello, World!\")"
   ]
  },
  {
   "cell_type": "code",
   "execution_count": 3,
   "metadata": {},
   "outputs": [
    {
     "name": "stdout",
     "output_type": "stream",
     "text": [
      "My name is Dnyanesh and I am 23 years old.\n"
     ]
    }
   ],
   "source": [
    "# 2. Write a Python program that displays your name and age.\n",
    "name = \"Dnyanesh\"\n",
    "age = 23\n",
    "print(\"My name is\", name, \"and I am\", age, \"years old.\")"
   ]
  },
  {
   "cell_type": "code",
   "execution_count": 5,
   "metadata": {},
   "outputs": [
    {
     "name": "stdout",
     "output_type": "stream",
     "text": [
      "-------------------------------Python Keywords---------------------------------\n",
      "\n",
      "Here is a list of the Python keywords.  Enter any keyword to get more help.\n",
      "\n",
      "False               break               for                 not\n",
      "None                class               from                or\n",
      "True                continue            global              pass\n",
      "__peg_parser__      def                 if                  raise\n",
      "and                 del                 import              return\n",
      "as                  elif                in                  try\n",
      "assert              else                is                  while\n",
      "async               except              lambda              with\n",
      "await               finally             nonlocal            yield\n",
      "\n",
      "None\n"
     ]
    }
   ],
   "source": [
    "# 3. Write code to print all the pre-defined keywords in Python using the keyword library.\n",
    "print(\"-------------------------------Python Keywords---------------------------------\")\n",
    "print(help(\"keywords\"))"
   ]
  },
  {
   "cell_type": "code",
   "execution_count": null,
   "metadata": {},
   "outputs": [
    {
     "name": "stdout",
     "output_type": "stream",
     "text": [
      "for is a Python keyword.\n"
     ]
    }
   ],
   "source": [
    "# 4. Write a program that checks if a given word is a Python keyword\n",
    "import keyword\n",
    "word = input(\"Enter a word to check if it is a Python keyword: \")\n",
    "if keyword.iskeyword(word):\n",
    "    print(word, \"is a Python keyword.\")\n",
    "else:\n",
    "    print(word, \"is not a Python keyword.\")\n",
    "    "
   ]
  },
  {
   "cell_type": "code",
   "execution_count": 10,
   "metadata": {},
   "outputs": [
    {
     "name": "stdout",
     "output_type": "stream",
     "text": [
      "Original List: [1, 2, 3, 4, 5]\n",
      "Original Tuple: (1, 2, 3, 4, 5)\n",
      "Modified List: [10, 2, 3, 4, 5]\n"
     ]
    },
    {
     "ename": "TypeError",
     "evalue": "'tuple' object does not support item assignment",
     "output_type": "error",
     "traceback": [
      "\u001b[1;31m---------------------------------------------------------------------------\u001b[0m",
      "\u001b[1;31mTypeError\u001b[0m                                 Traceback (most recent call last)",
      "Cell \u001b[1;32mIn[10], line 8\u001b[0m\n\u001b[0;32m      6\u001b[0m list1[\u001b[38;5;241m0\u001b[39m] \u001b[38;5;241m=\u001b[39m \u001b[38;5;241m10\u001b[39m\n\u001b[0;32m      7\u001b[0m \u001b[38;5;28mprint\u001b[39m(\u001b[38;5;124m\"\u001b[39m\u001b[38;5;124mModified List:\u001b[39m\u001b[38;5;124m\"\u001b[39m, list1)\n\u001b[1;32m----> 8\u001b[0m tuple1[\u001b[38;5;241m0\u001b[39m] \u001b[38;5;241m=\u001b[39m \u001b[38;5;241m10\u001b[39m\n\u001b[0;32m      9\u001b[0m \u001b[38;5;28mprint\u001b[39m(\u001b[38;5;124m\"\u001b[39m\u001b[38;5;124mModified Tuple:\u001b[39m\u001b[38;5;124m\"\u001b[39m, tuple1)\n",
      "\u001b[1;31mTypeError\u001b[0m: 'tuple' object does not support item assignment"
     ]
    }
   ],
   "source": [
    "# 5. Create a list and tuple in Python, and demonstrate how attempting to change an element works differently for each.\n",
    "list1 = [1, 2, 3, 4, 5]\n",
    "tuple1 = (1, 2, 3, 4, 5)\n",
    "print(\"Original List:\", list1)\n",
    "print(\"Original Tuple:\", tuple1)\n",
    "list1[0] = 10\n",
    "print(\"Modified List:\", list1)\n",
    "tuple1[0] = 10\n",
    "print(\"Modified Tuple:\", tuple1)\n"
   ]
  },
  {
   "cell_type": "code",
   "execution_count": 12,
   "metadata": {},
   "outputs": [
    {
     "name": "stdout",
     "output_type": "stream",
     "text": [
      "Before the function call: a = 5 b = [5, 6, 7]\n",
      "Inside the function: a = 10 b = [10, 6, 7]\n",
      "After the function call: a = 5 b = [10, 6, 7]\n"
     ]
    }
   ],
   "source": [
    "# 6. Write a function to demonstrate the behavior of mutable and immutable arguments.\n",
    "def mutable_immutable(a, b):\n",
    "    a = 10\n",
    "    b[0] = 10\n",
    "    print(\"Inside the function: a =\", a, \"b =\", b)\n",
    "    # Test the function with mutable and immutable arguments\n",
    "a = 5\n",
    "b = [5, 6, 7]\n",
    "print(\"Before the function call: a =\", a, \"b =\", b)\n",
    "mutable_immutable(a, b)\n",
    "print(\"After the function call: a =\", a, \"b =\", b)\n",
    "\n",
    "# 'a' is immutable, so the value of a remains unchanged outside the function/in global scope.\n",
    "# 'b' is mutable, so the value of b changes outside the function/in global scope.\n",
    "\n",
    "\n"
   ]
  },
  {
   "cell_type": "code",
   "execution_count": 20,
   "metadata": {},
   "outputs": [
    {
     "name": "stdout",
     "output_type": "stream",
     "text": [
      "Before the function call: mutable_arg = [5, 6, 7] immutable_arg = (10, 11, 12)\n",
      "Error: 'tuple' object does not support item assignment\n",
      "Inside the function: mutable_arg = [100, 6, 7] immutable_arg = (10, 11, 12)\n",
      "After the function call: mutable_arg = [100, 6, 7] immutable_arg = (10, 11, 12)\n"
     ]
    }
   ],
   "source": [
    "# 7. Write a function to demonstrate the behavior of mutable and immutable arguments.\n",
    "#  this qustion is repeated\n",
    "def mutable_immutable_args(mutable_arg, immutable_arg):\n",
    "    mutable_arg[0] = 100  # This works for mutable list\n",
    "    try:\n",
    "        immutable_arg[0] = 10  # This will raise an error because tuples are immutable\n",
    "    except TypeError as e:\n",
    "        print(f\"Error: {e}\")\n",
    "    \n",
    "    print(\"Inside the function: mutable_arg =\", mutable_arg, \"immutable_arg =\", immutable_arg)\n",
    "\n",
    "mutable_arg = [5, 6, 7]  # list\n",
    "immutable_arg = (10, 11, 12)  # tuple\n",
    "\n",
    "print(\"Before the function call: mutable_arg =\", mutable_arg, \"immutable_arg =\", immutable_arg)\n",
    "mutable_immutable_args(mutable_arg, immutable_arg)\n",
    "print(\"After the function call: mutable_arg =\", mutable_arg, \"immutable_arg =\", immutable_arg)\n"
   ]
  },
  {
   "cell_type": "code",
   "execution_count": 28,
   "metadata": {},
   "outputs": [
    {
     "name": "stdout",
     "output_type": "stream",
     "text": [
      "b is the largest number.\n",
      "d is the largest number.\n",
      "e is not greater than b.\n"
     ]
    }
   ],
   "source": [
    "# 8. Write a program to demonstrate the use of logical operators.\n",
    "a = 5\n",
    "b = 30\n",
    "c = 2\n",
    "d = 6\n",
    "e = 10\n",
    "\n",
    "# Using logical AND (and)\n",
    "if a > b and a > c:\n",
    "    print(\"a is the largest number.\")\n",
    "elif b > a and b > c:\n",
    "    print(\"b is the largest number.\")\n",
    "else:\n",
    "    print(\"c is the largest number.\")\n",
    "\n",
    "# Logical OR (or) operator\n",
    "if d > e or d > c:\n",
    "    print(\"d is the largest number.\")\n",
    "else:\n",
    "    print(\"d is not the largest number.\")\n",
    "\n",
    "# Logical NOT (not) operator\n",
    "if not e > b:\n",
    "    print(\"e is not greater than b.\")\n",
    "else:\n",
    "    print(\"e is greater than b.\")\n",
    "\n"
   ]
  },
  {
   "cell_type": "code",
   "execution_count": 35,
   "metadata": {},
   "outputs": [
    {
     "name": "stdout",
     "output_type": "stream",
     "text": [
      "Converted to integer: -23\n",
      "Converted to float: -23.0\n",
      "Converted to boolean: True\n"
     ]
    }
   ],
   "source": [
    "# 9. Write a Python program to convert user input from string to integer, float, and boolean types.\n",
    "\n",
    "\n",
    "# Take input from the user\n",
    "user_input = input(\"Enter a value: \")\n",
    "\n",
    "# Convert to integer\n",
    "int_value = int(user_input)\n",
    "print(\"Converted to integer:\", int_value)\n",
    "\n",
    "# Convert to float\n",
    "float_value = float(user_input)\n",
    "print(\"Converted to float:\", float_value)\n",
    "\n",
    "# Convert to boolean\n",
    "bool_value = bool(user_input)\n",
    "print(\"Converted to boolean:\", bool_value)\n",
    "\n",
    "\n"
   ]
  },
  {
   "cell_type": "code",
   "execution_count": 41,
   "metadata": {},
   "outputs": [
    {
     "name": "stdout",
     "output_type": "stream",
     "text": [
      "Befor typcasting list: [1, 2.5, 'abc', 0]\n",
      "After typecasting list: [2, 2.0, 'abc', False]\n"
     ]
    }
   ],
   "source": [
    "# 10. Write code to demonstrate type casting with list elements.\n",
    "\n",
    "list1 = [1, 2.5, 'abc', 0]\n",
    "print(\"Befor typcasting list:\",list1)\n",
    "\n",
    "# Type casting to int\n",
    "list1[0] = int(list1[1])\n",
    "\n",
    "# Type casting to float\n",
    "list1[1] = float(list1[0])\n",
    "\n",
    "# Type casting to string\n",
    "list1[2] = str(list1[2])\n",
    "\n",
    "# Type casting to boolean\n",
    "list1[3] = bool(list1[3])\n",
    "\n",
    "print(\"After typecasting list:\",list1)\n"
   ]
  },
  {
   "cell_type": "code",
   "execution_count": null,
   "metadata": {},
   "outputs": [
    {
     "name": "stdout",
     "output_type": "stream",
     "text": [
      "The given number is: -23 and it is negative.\n"
     ]
    }
   ],
   "source": [
    "# 11. Write a program that checks if a number is positive, negative, or zero.\n",
    "\n",
    "num = int(input(\"Enter a number: \"))\n",
    "if num > 0:\n",
    "    print(f\"The give number is: {num} and it is positive.\")\n",
    "elif num < 0:\n",
    "    print(f\"The given number is: {num} and it is negative.\")\n",
    "else:\n",
    "    print(f\"The given number is: {num} and it is zero.\")"
   ]
  },
  {
   "cell_type": "code",
   "execution_count": 47,
   "metadata": {},
   "outputs": [
    {
     "name": "stdout",
     "output_type": "stream",
     "text": [
      "1 2 3 4 5 6 7 8 9 10 "
     ]
    }
   ],
   "source": [
    "# 12.  Write a for loop to print numbers from 1 to 10.\n",
    "\n",
    "for i in range(1, 11):\n",
    "    print(i, end=' ')"
   ]
  },
  {
   "cell_type": "code",
   "execution_count": 50,
   "metadata": {},
   "outputs": [
    {
     "name": "stdout",
     "output_type": "stream",
     "text": [
      "2 4 6 8 10 12 14 16 18 20 22 24 26 28 30 32 34 36 38 40 42 44 46 48 50 \n",
      "Sum of all even numbers between 1 and 50: 650\n"
     ]
    }
   ],
   "source": [
    "# 13.  Write a Python program to find the sum of all even numbers between 1 and 50.\n",
    "\n",
    "sum = 0\n",
    "for i in range(1, 51):\n",
    "    if i % 2 == 0:\n",
    "        sum += i\n",
    "        print(i, end=' ')\n",
    "print(\"\\nSum of all even numbers between 1 and 50:\", sum)\n",
    "\n",
    "\n"
   ]
  },
  {
   "cell_type": "code",
   "execution_count": 57,
   "metadata": {},
   "outputs": [
    {
     "name": "stdout",
     "output_type": "stream",
     "text": [
      "Before reversing string: Dnyanesh\n",
      "After reversing string: hsenaynD\n"
     ]
    }
   ],
   "source": [
    "# 14. Write a program to reverse a string using a while loop.\n",
    "string = input(\"Enter a string: \")\n",
    "reversed_string = ''\n",
    "print(\"Before reversing string:\", string)\n",
    "i = len(string) - 1\n",
    "while i >= 0:\n",
    "    reversed_string += string[i]\n",
    "    i -= 1\n",
    "print(\"After reversing string:\", reversed_string)"
   ]
  },
  {
   "cell_type": "code",
   "execution_count": 58,
   "metadata": {},
   "outputs": [
    {
     "name": "stdout",
     "output_type": "stream",
     "text": [
      "The factorial of 5 is: 120\n"
     ]
    }
   ],
   "source": [
    "# 15. Write a Python program to calculate the factorial of a number provided by the user using a while loop.\n",
    "num = int(input(\"Enter a number: \"))\n",
    "factorial = 1\n",
    "i = 1\n",
    "while i <= num:\n",
    "    factorial *= i\n",
    "    i += 1\n",
    "print(f\"The factorial of {num} is: {factorial}\")"
   ]
  },
  {
   "cell_type": "markdown",
   "metadata": {},
   "source": [
    "------------------------------------------------------------------------------------|END|------------------------------------------------------------------------------------"
   ]
  }
 ],
 "metadata": {
  "kernelspec": {
   "display_name": "PythonXX(tf)",
   "language": "python",
   "name": "tf"
  },
  "language_info": {
   "codemirror_mode": {
    "name": "ipython",
    "version": 3
   },
   "file_extension": ".py",
   "mimetype": "text/x-python",
   "name": "python",
   "nbconvert_exporter": "python",
   "pygments_lexer": "ipython3",
   "version": "3.9.18"
  }
 },
 "nbformat": 4,
 "nbformat_minor": 2
}
