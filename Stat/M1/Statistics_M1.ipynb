{
  "nbformat": 4,
  "nbformat_minor": 0,
  "metadata": {
    "colab": {
      "provenance": []
    },
    "kernelspec": {
      "name": "python3",
      "display_name": "Python 3"
    },
    "language_info": {
      "name": "python"
    }
  },
  "cells": [
    {
      "cell_type": "markdown",
      "source": [
        "#   MODULE_1_STATISTICS: ASSIGNMENT."
      ],
      "metadata": {
        "id": "IP_yr92vwnc6"
      }
    },
    {
      "cell_type": "markdown",
      "source": [
        "-   -   -   -   -   -   -   -   -   -   -"
      ],
      "metadata": {
        "id": "nps6TfZ7w3cQ"
      }
    },
    {
      "cell_type": "markdown",
      "source": [
        "# Statistics Basics"
      ],
      "metadata": {
        "id": "9kHBP5NpxUiQ"
      }
    },
    {
      "cell_type": "markdown",
      "source": [
        "#### 1. What is statistics, and why is it important?\n",
        "Statistics is the branch of mathematics that deals with collecting, organizing, analyzing, interpreting, and presenting data. It provides methodologies to understand patterns, relationships, and trends within datasets, enabling informed decision-making. Statistics is widely used in various fields such as business, healthcare, engineering, and social sciences.\n",
        "\n",
        "**Importance of Statistics:**\n",
        "- **Decision Making**: Helps in making data-driven decisions based on trends and probabilities.\n",
        "- **Prediction & Forecasting**: Used in weather forecasting, stock market analysis, and AI predictions.\n",
        "- **Quality Control**: Ensures product quality in industries through statistical techniques.\n",
        "- **Scientific Research**: Supports hypothesis testing and experimental analysis.\n",
        "- **Healthcare & Medicine**: Used in drug trials, disease prediction, and patient analytics.\n",
        "- **Finance & Economics**: Helps in risk assessment, economic forecasting, and investment analysis.\n",
        "- **Machine Learning & AI**: Forms the foundation of data-driven algorithms and models.\n",
        "\n",
        "#### 2. What are the two main types of statistics?\n",
        "- **Descriptive Statistics**: Summarizes and presents data meaningfully using tables, charts, and numerical measures.\n",
        "- **Inferential Statistics**: Uses sample data to make predictions or inferences about a larger population through hypothesis testing and confidence intervals.\n",
        "\n",
        "#### 3. What are descriptive statistics?\n",
        "Descriptive statistics involve methods for summarizing and describing the main features of a dataset. This includes:\n",
        "- **Measures of Central Tendency**: Mean, median, mode.\n",
        "- **Measures of Dispersion**: Range, variance, standard deviation.\n",
        "- **Graphical Representation**: Charts, histograms, pie charts, and box plots.\n",
        "\n",
        "#### 4. What is inferential statistics?\n",
        "Inferential statistics involve drawing conclusions about a population based on sample data. It is used to test hypotheses and make predictions. Examples include:\n",
        "- **Hypothesis Testing**: Determining if a statement about a population is true.\n",
        "- **Confidence Intervals**: Estimating the range in which a population parameter lies.\n",
        "- **Regression Analysis**: Analyzing relationships between variables.\n",
        "\n",
        "#### 5. What is sampling in statistics?\n",
        "Sampling is the process of selecting a subset of individuals or data points from a larger population to analyze and make inferences. It is crucial in statistics since collecting data from an entire population is often impractical.\n",
        "\n",
        "#### 6. What are the different types of sampling methods?\n",
        "- **Random Sampling**:\n",
        "  - Simple Random Sampling: Each individual has an equal chance of selection.\n",
        "  - Stratified Sampling: Population is divided into subgroups, and samples are taken from each.\n",
        "  - Systematic Sampling: Every nth individual is selected from a list.\n",
        "  - Cluster Sampling: Population is divided into clusters, and entire clusters are sampled.\n",
        "- **Non-Random Sampling**:\n",
        "  - Convenience Sampling: Selecting easily accessible individuals.\n",
        "  - Quota Sampling: Selecting a fixed number from each subgroup.\n",
        "  - Judgmental Sampling: Selection based on researcher’s expertise.\n",
        "  - Snowball Sampling: Existing study subjects recruit more participants.\n",
        "\n",
        "#### 7. What is the difference between random and non-random sampling?\n",
        "- **Random Sampling**: Each individual has an equal chance of selection, reducing bias and increasing reliability.\n",
        "- **Non-Random Sampling**: Selection is based on convenience or judgment, which may introduce bias.\n",
        "\n",
        "#### 8. Define and give examples of qualitative and quantitative data?\n",
        "- **Qualitative Data**: Descriptive, non-numeric data. (e.g., colors, gender, brand names, survey responses.)\n",
        "- **Quantitative Data**: Numeric data that can be measured. (e.g., height, weight, temperature, age.)\n",
        "\n",
        "#### 9. What are the different types of data in statistics?\n",
        "- **Qualitative Data**:\n",
        "  - Nominal: Categories without order (e.g., colors, gender).\n",
        "  - Ordinal: Ordered categories without fixed differences (e.g., rankings, satisfaction levels).\n",
        "- **Quantitative Data**:\n",
        "  - Discrete: Countable numbers (e.g., number of students in a class).\n",
        "  - Continuous: Measurable data with infinite precision (e.g., height, temperature).\n",
        "\n",
        "#### 10. Explain nominal, ordinal, interval, and ratio levels of measurement?\n",
        "- **Nominal**: Categorical data without order (e.g., eye color, nationality).\n",
        "- **Ordinal**: Categorical data with order but no fixed difference (e.g., survey ratings: poor, average, good).\n",
        "- **Interval**: Numeric data with equal intervals but no true zero (e.g., temperature in Celsius).\n",
        "- **Ratio**: Numeric data with equal intervals and a true zero (e.g., weight, height, age).\n",
        "\n",
        "#### 11. What is the measure of central tendency?\n",
        "It refers to the statistical measures that identify the center of a dataset. The three primary measures are mean, median, and mode.\n",
        "\n",
        "#### 12. Define mean, median, and mode?\n",
        "- **Mean**: The arithmetic average of all values in a dataset.\n",
        "- **Median**: The middle value when data is arranged in order.\n",
        "- **Mode**: The most frequently occurring value(s) in a dataset.\n",
        "\n",
        "#### 13. What is the significance of the measure of central tendency?\n",
        "It provides a summary of a dataset by identifying a single representative value, helping in comparisons and decision-making.\n",
        "\n",
        "#### 14. What is variance, and how is it calculated?\n",
        "Variance measures the spread of data points around the mean. It is calculated as the average of the squared differences from the mean.\n",
        "\n",
        "#### 15. What is standard deviation, and why is it important?\n",
        "Standard deviation is the square root of variance. It indicates how much data deviates from the mean and helps assess data consistency.\n",
        "\n",
        "#### 16. Define and explain the term range in statistics?\n",
        "Range is the difference between the maximum and minimum values in a dataset, showing the spread of the data.\n",
        "\n",
        "#### 17. What is the difference between variance and standard deviation?\n",
        "- **Variance**: Measures the average squared deviations from the mean.\n",
        "- **Standard Deviation**: The square root of variance, making it easier to interpret as it has the same units as the data.\n",
        "\n",
        "#### 18. What is skewness in a dataset?\n",
        "Skewness measures the asymmetry of a dataset’s distribution.\n",
        "\n",
        "#### 19. What does it mean if a dataset is positively or negatively skewed?\n",
        "- **Positively Skewed**: Right-tailed distribution, where mean > median > mode.\n",
        "- **Negatively Skewed**: Left-tailed distribution, where mean < median < mode.\n",
        "\n",
        "#### 20. Define and explain kurtosis?\n",
        "Kurtosis measures the \"tailedness\" of a distribution. Higher kurtosis means more extreme outliers, while lower kurtosis indicates fewer outliers.\n",
        "\n",
        "#### 21. What is the purpose of covariance?\n",
        "Covariance measures the relationship between two variables. Positive covariance indicates a direct relationship, while negative covariance shows an inverse relationship.\n",
        "\n",
        "#### 22. What does correlation measure in statistics?\n",
        "Correlation quantifies the strength and direction of the relationship between two variables, ranging from -1 (negative) to +1 (positive).\n",
        "\n",
        "#### 23. What is the difference between covariance and correlation?\n",
        "- **Covariance**: Measures the direction of the relationship but does not standardize values.\n",
        "- **Correlation**: Standardizes values to show both strength and direction.\n",
        "\n",
        "#### 24. What are some real-world applications of statistics?\n",
        "1. **Healthcare**: Disease prediction, drug trials.\n",
        "2. **Business**: Market research, sales forecasting.\n",
        "3. **Finance**: Risk assessment, stock market trends.\n",
        "4. **Agriculture**: Crop yield estimation, pest control.\n",
        "5. **Engineering**: Quality control, performance analysis.\n",
        "6. **Government**: Policy-making, census data analysis.\n",
        "7. **Sports**: Player performance analysis, game strategies.\n",
        "8. **AI & ML**: Model training, predictive analytics.\n",
        "9. **Education**: Student performance assessment, curriculum design.\n",
        "10. **Environment**: Climate change modeling, pollution control.\n",
        "\n"
      ],
      "metadata": {
        "id": "WJ3VeOXfOebh"
      }
    },
    {
      "cell_type": "markdown",
      "source": [
        "- - - - -"
      ],
      "metadata": {
        "id": "evSmv2tlxmju"
      }
    },
    {
      "cell_type": "markdown",
      "source": [
        "#   Practical Questions"
      ],
      "metadata": {
        "id": "9B8wkwMux6x_"
      }
    },
    {
      "cell_type": "code",
      "source": [
        "\"\"\" 1. How do you calculate the mean, median, and mode of a dataset? \"\"\"\n",
        "import seaborn as sns\n",
        "import statistics\n",
        "\n",
        "iris = sns.load_dataset('iris')\n",
        "data = iris['sepal_length']\n",
        "print(iris.head())\n",
        "\n",
        "# Calculate mean, median, and mode\n",
        "mean = statistics.mean(data)\n",
        "median = statistics.median(data)\n",
        "mode = statistics.mode(data)\n",
        "\n",
        "# Print the results\n",
        "print(f\"Mean: {mean}\")\n",
        "print(f\"Median: {median}\")\n",
        "print(f\"Mode: {mode}\")"
      ],
      "metadata": {
        "colab": {
          "base_uri": "https://localhost:8080/"
        },
        "id": "SPqytCd7x4gn",
        "outputId": "6aafad03-f5d8-4b73-9df2-c9bf7a0148e1"
      },
      "execution_count": 6,
      "outputs": [
        {
          "output_type": "stream",
          "name": "stdout",
          "text": [
            "   sepal_length  sepal_width  petal_length  petal_width species\n",
            "0           5.1          3.5           1.4          0.2  setosa\n",
            "1           4.9          3.0           1.4          0.2  setosa\n",
            "2           4.7          3.2           1.3          0.2  setosa\n",
            "3           4.6          3.1           1.5          0.2  setosa\n",
            "4           5.0          3.6           1.4          0.2  setosa\n",
            "Mean: 5.843333333333334\n",
            "Median: 5.8\n",
            "Mode: 5.0\n"
          ]
        }
      ]
    },
    {
      "cell_type": "code",
      "source": [
        "\"\"\"  2. Write a Python program to compute the variance and standard deviation of a dataset? \"\"\"\n",
        "import seaborn as sns\n",
        "import statistics\n",
        "\n",
        "# Load the 'mpg' dataset from seaborn\n",
        "mpg = sns.load_dataset('mpg')\n",
        "\n",
        "# Select a numerical column for calculations (e.g., 'horsepower')\n",
        "data = mpg['horsepower']\n",
        "print(mpg.head())\n",
        "# Drop missing values to prevent errors in calculations\n",
        "data = data.dropna()\n",
        "\n",
        "# Calculate variance and standard deviation\n",
        "variance = statistics.variance(data)\n",
        "std_dev = statistics.stdev(data)\n",
        "\n",
        "# Print the results\n",
        "print(f\"Variance: {variance}\")\n",
        "print(f\"Standard Deviation: {std_dev}\")"
      ],
      "metadata": {
        "colab": {
          "base_uri": "https://localhost:8080/"
        },
        "id": "xezrOWzkypT7",
        "outputId": "730bcfbd-ea73-424c-c423-c77217913eb1"
      },
      "execution_count": 9,
      "outputs": [
        {
          "output_type": "stream",
          "name": "stdout",
          "text": [
            "    mpg  cylinders  displacement  horsepower  weight  acceleration  \\\n",
            "0  18.0          8         307.0       130.0    3504          12.0   \n",
            "1  15.0          8         350.0       165.0    3693          11.5   \n",
            "2  18.0          8         318.0       150.0    3436          11.0   \n",
            "3  16.0          8         304.0       150.0    3433          12.0   \n",
            "4  17.0          8         302.0       140.0    3449          10.5   \n",
            "\n",
            "   model_year origin                       name  \n",
            "0          70    usa  chevrolet chevelle malibu  \n",
            "1          70    usa          buick skylark 320  \n",
            "2          70    usa         plymouth satellite  \n",
            "3          70    usa              amc rebel sst  \n",
            "4          70    usa                ford torino  \n",
            "Variance: 1481.5693929745812\n",
            "Standard Deviation: 38.49115993282849\n"
          ]
        }
      ]
    },
    {
      "cell_type": "code",
      "source": [
        "\"\"\"  3.Create a dataset and classify it into nominal, ordinal, interval, and ratio types?  \"\"\"\n",
        "import pandas as pd\n",
        "\n",
        "# Create a sample dataset\n",
        "data = {\n",
        "    'Gender': ['Male', 'Female', 'Male', 'Female', 'Male'],\n",
        "    'Education': ['High School', 'Bachelor\\'s', 'Master\\'s', 'PhD', 'Bachelor\\'s'],\n",
        "    'Temperature': [25, 28, 22, 26, 27],\n",
        "    'Income': [50000, 60000, 75000, 90000, 65000]\n",
        "}\n",
        "\n",
        "df = pd.DataFrame(data)\n",
        "\n",
        "# Classify the variables\n",
        "variable_types = {\n",
        "    'Gender': 'Nominal',\n",
        "    'Education': 'Ordinal',\n",
        "    'Temperature': 'Interval',\n",
        "    'Income': 'Ratio'\n",
        "}\n",
        "\n",
        "# Print the dataset and variable types\n",
        "print(\"Dataset:\\n\", df)\n",
        "print(\"\\nVariable Types:\\n\", variable_types)\n"
      ],
      "metadata": {
        "colab": {
          "base_uri": "https://localhost:8080/"
        },
        "id": "765g-yPH2cot",
        "outputId": "838d6e8d-2235-443b-c5ac-e53f6792eb99"
      },
      "execution_count": 10,
      "outputs": [
        {
          "output_type": "stream",
          "name": "stdout",
          "text": [
            "Dataset:\n",
            "    Gender    Education  Temperature  Income\n",
            "0    Male  High School           25   50000\n",
            "1  Female   Bachelor's           28   60000\n",
            "2    Male     Master's           22   75000\n",
            "3  Female          PhD           26   90000\n",
            "4    Male   Bachelor's           27   65000\n",
            "\n",
            "Variable Types:\n",
            " {'Gender': 'Nominal', 'Education': 'Ordinal', 'Temperature': 'Interval', 'Income': 'Ratio'}\n"
          ]
        }
      ]
    },
    {
      "cell_type": "code",
      "source": [
        "\"\"\"  4.Implement sampling techniques like random sampling and stratified sampling?  \"\"\"\n",
        "import pandas as pd\n",
        "import numpy as np\n",
        "\n",
        "# Load the 'iris' dataset from seaborn\n",
        "iris = sns.load_dataset('iris')\n",
        "\n",
        "# Random Sampling\n",
        "# -----------------\n",
        "# Sample 30 data points randomly\n",
        "random_sample = iris.sample(n=30, random_state=42)  # random_state ensures reproducibility\n",
        "\n",
        "# Stratified Sampling\n",
        "# --------------------\n",
        "# Sample 30 data points stratified by 'species'\n",
        "from sklearn.model_selection import train_test_split\n",
        "_, stratified_sample = train_test_split(iris, test_size=30, stratify=iris['species'], random_state=42)\n",
        "\n",
        "# Print the samples\n",
        "print(\"Random Sample:\\n\", random_sample.head())\n",
        "print(\"\\nStratified Sample:\\n\", stratified_sample.head())\n"
      ],
      "metadata": {
        "colab": {
          "base_uri": "https://localhost:8080/"
        },
        "id": "H0uxrGrE2wwG",
        "outputId": "7a9d0209-ac4c-48ae-de61-fd904f2adf27"
      },
      "execution_count": 11,
      "outputs": [
        {
          "output_type": "stream",
          "name": "stdout",
          "text": [
            "Random Sample:\n",
            "      sepal_length  sepal_width  petal_length  petal_width     species\n",
            "73            6.1          2.8           4.7          1.2  versicolor\n",
            "18            5.7          3.8           1.7          0.3      setosa\n",
            "118           7.7          2.6           6.9          2.3   virginica\n",
            "78            6.0          2.9           4.5          1.5  versicolor\n",
            "76            6.8          2.8           4.8          1.4  versicolor\n",
            "\n",
            "Stratified Sample:\n",
            "      sepal_length  sepal_width  petal_length  petal_width     species\n",
            "38            4.4          3.0           1.3          0.2      setosa\n",
            "127           6.1          3.0           4.9          1.8   virginica\n",
            "57            4.9          2.4           3.3          1.0  versicolor\n",
            "93            5.0          2.3           3.3          1.0  versicolor\n",
            "42            4.4          3.2           1.3          0.2      setosa\n"
          ]
        }
      ]
    },
    {
      "cell_type": "code",
      "source": [
        "\n",
        "\"\"\"  5.Write a Python function to calculate the range of a dataset?  \"\"\"\n",
        "def calculate_range(data):\n",
        "    \"\"\"\n",
        "    Calculates the range of a dataset.\n",
        "\n",
        "    Args:\n",
        "        data: A list or NumPy array of numerical data.\n",
        "\n",
        "    Returns:\n",
        "        The range of the dataset (maximum value - minimum value).\n",
        "    \"\"\"\n",
        "    if not data:\n",
        "        return 0\n",
        "    return max(data) - min(data)\n",
        "\n",
        "# Example usage:\n",
        "dataset = [10, 5, 20, 15, 25]\n",
        "range_of_dataset = calculate_range(dataset)\n",
        "print(f\"The range of the dataset is: {range_of_dataset}\")\n"
      ],
      "metadata": {
        "colab": {
          "base_uri": "https://localhost:8080/"
        },
        "id": "gAI_degS3EPC",
        "outputId": "12fd50ee-f6ff-431f-8493-e156fd1d8452"
      },
      "execution_count": 12,
      "outputs": [
        {
          "output_type": "stream",
          "name": "stdout",
          "text": [
            "The range of the dataset is: 20\n"
          ]
        }
      ]
    },
    {
      "cell_type": "code",
      "source": [
        "\n",
        "\"\"\"  6.Create a dataset and plot its histogram to visualize skewness? \"\"\"\n",
        "import numpy as np\n",
        "import matplotlib.pyplot as plt\n",
        "import seaborn as sns\n",
        "\n",
        "# Generate a dataset with positive skewness (right-skewed)\n",
        "np.random.seed(42)\n",
        "data = np.random.exponential(scale=2, size=1000)\n",
        "\n",
        "# Create the histogram\n",
        "plt.figure(figsize=(8, 6))\n",
        "plt.hist(data, bins=30, density=True, alpha=0.7, color='skyblue', edgecolor='black')\n",
        "plt.title('Histogram of Right-Skewed Data')\n",
        "plt.xlabel('Data Values')\n",
        "plt.ylabel('Frequency')\n",
        "\n",
        "sns.kdeplot(data, color='blue')\n",
        "\n",
        "plt.show()\n"
      ],
      "metadata": {
        "colab": {
          "base_uri": "https://localhost:8080/",
          "height": 564
        },
        "id": "YxkNFyeQ3egp",
        "outputId": "b66555d8-a9fe-497e-d6f2-33764cc9240f"
      },
      "execution_count": 13,
      "outputs": [
        {
          "output_type": "display_data",
          "data": {
            "text/plain": [
              "<Figure size 800x600 with 1 Axes>"
            ],
            "image/png": "[encoded data removed]"
          },
          "metadata": {}
        }
      ]
    },
    {
      "cell_type": "code",
      "source": [
        "\n",
        "\"\"\"  7.Calculate skewness and kurtosis of a dataset using Python libraries?  \"\"\"\n",
        "import seaborn as sns\n",
        "import scipy.stats as stats\n",
        "\n",
        "tips = sns.load_dataset(\"tips\")\n",
        "\n",
        "skewness = stats.skew(tips[\"total_bill\"])\n",
        "kurtosis = stats.kurtosis(tips[\"total_bill\"])\n",
        "print(\"Tips Dataset:\")\n",
        "print(tips.head())\n",
        "print(f\"Skewness: {skewness}\")\n",
        "print(f\"Kurtosis: {kurtosis}\")\n"
      ],
      "metadata": {
        "colab": {
          "base_uri": "https://localhost:8080/"
        },
        "id": "E01iZ4il4RCS",
        "outputId": "029d0730-7bcf-4478-cf3d-1bffe4c10990"
      },
      "execution_count": 21,
      "outputs": [
        {
          "output_type": "stream",
          "name": "stdout",
          "text": [
            "Tips Dataset:\n",
            "   total_bill   tip     sex smoker  day    time  size\n",
            "0       16.99  1.01  Female     No  Sun  Dinner     2\n",
            "1       10.34  1.66    Male     No  Sun  Dinner     3\n",
            "2       21.01  3.50    Male     No  Sun  Dinner     3\n",
            "3       23.68  3.31    Male     No  Sun  Dinner     2\n",
            "4       24.59  3.61  Female     No  Sun  Dinner     4\n",
            "Skewness: 1.1262346334818638\n",
            "Kurtosis: 1.1691681323851366\n"
          ]
        }
      ]
    },
    {
      "cell_type": "code",
      "source": [
        "\n",
        "\"\"\"  8.Generate a dataset and demonstrate positive and negative skewness?  \"\"\"\n",
        "import numpy as np\n",
        "import matplotlib.pyplot as plt\n",
        "import seaborn as sns\n",
        "\n",
        "positive_skew = np.random.exponential(scale=2, size=1000)\n",
        "negative_skew = -np.random.exponential(scale=2, size=1000)\n",
        "\n",
        "sns.histplot(positive_skew, kde=True, color=\"blue\", label=\"Positive Skew\")\n",
        "sns.histplot(negative_skew, kde=True, color=\"red\", label=\"Negative Skew\")\n",
        "plt.legend()\n",
        "plt.show()"
      ],
      "metadata": {
        "colab": {
          "base_uri": "https://localhost:8080/",
          "height": 432
        },
        "id": "L1TzENPQ44zH",
        "outputId": "c079d441-74a3-4f2e-a745-3fa78e92b750"
      },
      "execution_count": 23,
      "outputs": [
        {
          "output_type": "display_data",
          "data": {
            "text/plain": [
              "<Figure size 640x480 with 1 Axes>"
            ],
            "image/png": "[encoded data removed]"
          },
          "metadata": {}
        }
      ]
    },
    {
      "cell_type": "code",
      "source": [
        "\"\"\"  9.Write a Python script to calculate covariance between two datasets?  \"\"\"\n",
        "import seaborn as sns\n",
        "import numpy as np\n",
        "\n",
        "tips = sns.load_dataset(\"tips\")\n",
        "\n",
        "covariance = np.cov(tips[\"total_bill\"], tips[\"tip\"])[0, 1]\n",
        "print(f\"Covariance: {covariance}\")\n"
      ],
      "metadata": {
        "colab": {
          "base_uri": "https://localhost:8080/"
        },
        "id": "tdFvXwG65MN6",
        "outputId": "e1ee592d-9f9f-464c-c7b8-3aaf2b3b79e1"
      },
      "execution_count": 24,
      "outputs": [
        {
          "output_type": "stream",
          "name": "stdout",
          "text": [
            "Covariance: 8.323501629224854\n"
          ]
        }
      ]
    },
    {
      "cell_type": "code",
      "source": [
        "\n",
        "\"\"\"  10.Write a Python script to calculate the correlation coefficient between two datasets?  \"\"\"\n",
        "import seaborn as sns\n",
        "\n",
        "tips = sns.load_dataset(\"tips\")\n",
        "\n",
        "correlation = tips[\"total_bill\"].corr(tips[\"tip\"])\n",
        "print(f\"Correlation Coefficient: {correlation}\")\n"
      ],
      "metadata": {
        "colab": {
          "base_uri": "https://localhost:8080/"
        },
        "id": "5qK_khDT5OdO",
        "outputId": "3decf36e-b75a-464e-bfe4-25810793dc97"
      },
      "execution_count": 25,
      "outputs": [
        {
          "output_type": "stream",
          "name": "stdout",
          "text": [
            "Correlation Coefficient: 0.6757341092113641\n"
          ]
        }
      ]
    },
    {
      "cell_type": "code",
      "source": [
        "\"\"\"  11.Create a scatter plot to visualize the relationship between two variables?  \"\"\"\n",
        "import seaborn as sns\n",
        "import matplotlib.pyplot as plt\n",
        "\n",
        "tips = sns.load_dataset(\"tips\")\n",
        "\n",
        "sns.scatterplot(x=\"total_bill\", y=\"tip\", data=tips)\n",
        "plt.title(\"Total Bill vs Tip\")\n",
        "plt.show()\n"
      ],
      "metadata": {
        "colab": {
          "base_uri": "https://localhost:8080/",
          "height": 472
        },
        "id": "hi0SjIQZ5Q4Y",
        "outputId": "cc7701ca-6dd0-4a0b-b933-738f4ee811d6"
      },
      "execution_count": 26,
      "outputs": [
        {
          "output_type": "display_data",
          "data": {
            "text/plain": [
              "<Figure size 640x480 with 1 Axes>"
            ],
            "image/png": "[encoded data removed]"
          },
          "metadata": {}
        }
      ]
    },
    {
      "cell_type": "code",
      "source": [
        "\"\"\"  12.Implement and compare simple random sampling and systematic sampling?  \"\"\"\n",
        "import seaborn as sns\n",
        "import numpy as np\n",
        "\n",
        "tips = sns.load_dataset(\"tips\")\n",
        "sample_size = 10\n",
        "\n",
        "random_sample = tips.sample(sample_size)\n",
        "systematic_sample = tips.iloc[::len(tips) // sample_size]\n",
        "\n",
        "print(\"Random Sample:\\n\", random_sample)\n",
        "print(\"\\nSystematic Sample:\\n\", systematic_sample)\n"
      ],
      "metadata": {
        "colab": {
          "base_uri": "https://localhost:8080/"
        },
        "id": "a3y2HnSP5ThL",
        "outputId": "2680812c-c366-45b9-b4bc-c4c36f642c9b"
      },
      "execution_count": 27,
      "outputs": [
        {
          "output_type": "stream",
          "name": "stdout",
          "text": [
            "Random Sample:\n",
            "      total_bill   tip     sex smoker   day    time  size\n",
            "203       16.40  2.50  Female    Yes  Thur   Lunch     2\n",
            "18        16.97  3.50  Female     No   Sun  Dinner     3\n",
            "213       13.27  2.50  Female    Yes   Sat  Dinner     2\n",
            "205       16.47  3.23  Female    Yes  Thur   Lunch     3\n",
            "218        7.74  1.44    Male    Yes   Sat  Dinner     2\n",
            "99        12.46  1.50    Male     No   Fri  Dinner     2\n",
            "7         26.88  3.12    Male     No   Sun  Dinner     4\n",
            "163       13.81  2.00    Male     No   Sun  Dinner     2\n",
            "87        18.28  4.00    Male     No  Thur   Lunch     2\n",
            "50        12.54  2.50    Male     No   Sun  Dinner     2\n",
            "\n",
            "Systematic Sample:\n",
            "      total_bill   tip     sex smoker   day    time  size\n",
            "0         16.99  1.01  Female     No   Sun  Dinner     2\n",
            "24        19.82  3.18    Male     No   Sat  Dinner     2\n",
            "48        28.55  2.05    Male     No   Sun  Dinner     3\n",
            "72        26.86  3.14  Female    Yes   Sat  Dinner     2\n",
            "96        27.28  4.00    Male    Yes   Fri  Dinner     2\n",
            "120       11.69  2.31    Male     No  Thur   Lunch     2\n",
            "144       16.43  2.30  Female     No  Thur   Lunch     2\n",
            "168       10.59  1.61  Female    Yes   Sat  Dinner     2\n",
            "192       28.44  2.56    Male    Yes  Thur   Lunch     2\n",
            "216       28.15  3.00    Male    Yes   Sat  Dinner     5\n",
            "240       27.18  2.00  Female    Yes   Sat  Dinner     2\n"
          ]
        }
      ]
    },
    {
      "cell_type": "code",
      "source": [
        "\"\"\"  13.Calculate the mean, median, and mode of grouped data?  \"\"\"\n",
        "import seaborn as sns\n",
        "import numpy as np\n",
        "from scipy import stats\n",
        "\n",
        "tips = sns.load_dataset(\"tips\")\n",
        "\n",
        "mean = np.mean(tips[\"total_bill\"])\n",
        "median = np.median(tips[\"total_bill\"])\n",
        "mode = stats.mode(tips[\"total_bill\"])[0]\n",
        "\n",
        "print(f\"Mean: {mean}, Median: {median}, Mode: {mode}\")\n"
      ],
      "metadata": {
        "colab": {
          "base_uri": "https://localhost:8080/"
        },
        "id": "4lgUSK1x5WSu",
        "outputId": "743d8ce0-59e1-4bff-a285-884da8395b14"
      },
      "execution_count": 47,
      "outputs": [
        {
          "output_type": "stream",
          "name": "stdout",
          "text": [
            "Mean: 19.78594262295082, Median: 17.795, Mode: 13.42\n"
          ]
        }
      ]
    },
    {
      "cell_type": "code",
      "source": [
        "\"\"\"  14.Simulate data using Python and calculate its central tendency and dispersion?  \"\"\"\n",
        "import seaborn as sns\n",
        "\n",
        "tips = sns.load_dataset(\"tips\")\n",
        "\n",
        "mean = tips[\"total_bill\"].mean()\n",
        "median = tips[\"total_bill\"].median()\n",
        "mode = stats.mode(tips[\"total_bill\"])[0]\n",
        "std_dev = tips[\"total_bill\"].std()\n",
        "\n",
        "print(f\"Mean: {mean}, Median: {median}, Mode: {mode}, Std Dev: {std_dev}\")\n"
      ],
      "metadata": {
        "colab": {
          "base_uri": "https://localhost:8080/"
        },
        "id": "RzYARVM-5Yhr",
        "outputId": "d251b931-df65-4d3e-ddea-4e091a06667b"
      },
      "execution_count": 49,
      "outputs": [
        {
          "output_type": "stream",
          "name": "stdout",
          "text": [
            "Mean: 19.78594262295082, Median: 17.795, Mode: 13.42, Std Dev: 8.902411954856856\n"
          ]
        }
      ]
    },
    {
      "cell_type": "code",
      "source": [
        "\"\"\"  15.Use NumPy or pandas to summarize a dataset’s descriptive statistics?  \"\"\"\n",
        "import seaborn as sns\n",
        "import numpy as np\n",
        "\n",
        "tips = sns.load_dataset(\"tips\")\n",
        "\n",
        "summary_stats = tips.describe()\n",
        "print(summary_stats)"
      ],
      "metadata": {
        "colab": {
          "base_uri": "https://localhost:8080/"
        },
        "id": "kad2Kk7T5bUO",
        "outputId": "dcde0bec-571c-4e8b-d982-b362765343a3"
      },
      "execution_count": 44,
      "outputs": [
        {
          "output_type": "stream",
          "name": "stdout",
          "text": [
            "       total_bill         tip        size\n",
            "count  244.000000  244.000000  244.000000\n",
            "mean    19.785943    2.998279    2.569672\n",
            "std      8.902412    1.383638    0.951100\n",
            "min      3.070000    1.000000    1.000000\n",
            "25%     13.347500    2.000000    2.000000\n",
            "50%     17.795000    2.900000    2.000000\n",
            "75%     24.127500    3.562500    3.000000\n",
            "max     50.810000   10.000000    6.000000\n"
          ]
        }
      ]
    },
    {
      "cell_type": "code",
      "source": [
        "\"\"\"  16.Plot a boxplot to understand the spread and identify outliers?  \"\"\"\n",
        "import seaborn as sns\n",
        "import matplotlib.pyplot as plt\n",
        "\n",
        "data = np.random.normal(50, 15, 1000)\n",
        "\n",
        "sns.boxplot(data, orient=\"h\",width=0.5)\n",
        "plt.title(\"Boxplot of Data\")\n",
        "plt.show()\n"
      ],
      "metadata": {
        "colab": {
          "base_uri": "https://localhost:8080/",
          "height": 452
        },
        "id": "8-BPcS6s5ds5",
        "outputId": "a9fc9aa2-3800-423d-b53a-6f8f41738bc2"
      },
      "execution_count": 43,
      "outputs": [
        {
          "output_type": "display_data",
          "data": {
            "text/plain": [
              "<Figure size 640x480 with 1 Axes>"
            ],
            "image/png": "[encoded data removed]"
          },
          "metadata": {}
        }
      ]
    },
    {
      "cell_type": "code",
      "source": [
        "\"\"\"  17.Calculate the interquartile range (IQR) of a dataset?  \"\"\"\n",
        "import numpy as np\n",
        "\n",
        "data = np.random.normal(50, 15, 1000)\n",
        "\n",
        "q75, q25 = np.percentile(data, [75, 25])\n",
        "iqr = q75 - q25\n",
        "\n",
        "print(f\"IQR: {iqr}\")\n"
      ],
      "metadata": {
        "colab": {
          "base_uri": "https://localhost:8080/"
        },
        "id": "l7AiYZgS5fz_",
        "outputId": "51596776-4355-49d5-f688-23d8bacd246e"
      },
      "execution_count": 38,
      "outputs": [
        {
          "output_type": "stream",
          "name": "stdout",
          "text": [
            "IQR: 20.8727273142565\n"
          ]
        }
      ]
    },
    {
      "cell_type": "code",
      "source": [
        "\"\"\"  18.Implement Z-score normalization and explain its significance?  \"\"\"\n",
        "data = np.random.normal(50, 15, 1000)\n",
        "\n",
        "z_score_normalized = (data - np.mean(data)) / np.std(data)\n",
        "print(z_score_normalized[:10])  # Display first 10 normalized values\n"
      ],
      "metadata": {
        "colab": {
          "base_uri": "https://localhost:8080/"
        },
        "id": "-XAQyxVB5mtA",
        "outputId": "83d5d67d-38aa-4835-a436-3a58d1f3a9ba"
      },
      "execution_count": 37,
      "outputs": [
        {
          "output_type": "stream",
          "name": "stdout",
          "text": [
            "[ 3.00146218  0.45847086 -0.10598568  1.87475165  0.2343573  -1.49300996\n",
            " -0.09623118  0.64324336  0.51383784  1.03541715]\n"
          ]
        }
      ]
    },
    {
      "cell_type": "code",
      "source": [
        "\"\"\"  19.Compare two datasets using their standard deviations?  \"\"\"\n",
        "data1 = np.random.normal(50, 10, 1000)\n",
        "data2 = np.random.normal(60, 20, 1000)\n",
        "\n",
        "std1 = np.std(data1)\n",
        "std2 = np.std(data2)\n",
        "\n",
        "print(f\"Std Dev of Dataset 1: {std1}\")\n",
        "print(f\"Std Dev of Dataset 2: {std2}\")\n"
      ],
      "metadata": {
        "colab": {
          "base_uri": "https://localhost:8080/"
        },
        "id": "FFxFC2v-5pRL",
        "outputId": "f5302b05-0da6-4c7f-dec6-d3186460c4c8"
      },
      "execution_count": 36,
      "outputs": [
        {
          "output_type": "stream",
          "name": "stdout",
          "text": [
            "Std Dev of Dataset 1: 9.973228866668359\n",
            "Std Dev of Dataset 2: 20.7050974115355\n"
          ]
        }
      ]
    },
    {
      "cell_type": "code",
      "source": [
        "\"\"\"  20.Write a Python program to visualize covariance using a heatmap?  \"\"\"\n",
        "import seaborn as sns\n",
        "import numpy as np\n",
        "import matplotlib.pyplot as plt\n",
        "\n",
        "data = np.random.rand(100, 3)\n",
        "sns.heatmap(np.cov(data.T), annot=True, cmap=\"coolwarm\")\n",
        "plt.show()\n"
      ],
      "metadata": {
        "colab": {
          "base_uri": "https://localhost:8080/",
          "height": 430
        },
        "id": "EsZXXIwu5qWa",
        "outputId": "12cfe991-f8a9-40f6-8b29-5ae3290e7dfe"
      },
      "execution_count": 35,
      "outputs": [
        {
          "output_type": "display_data",
          "data": {
            "text/plain": [
              "<Figure size 640x480 with 2 Axes>"
            ],
            "image/png": "[encoded data removed]"
          },
          "metadata": {}
        }
      ]
    },
    {
      "cell_type": "code",
      "source": [
        "\"\"\"  21.Use seaborn to create a correlation matrix for a dataset?  \"\"\"\n",
        "import pandas as pd\n",
        "import seaborn as sns\n",
        "import matplotlib.pyplot as plt\n",
        "\n",
        "data = pd.DataFrame(np.random.rand(100, 3), columns=[\"A\", \"B\", \"C\"])\n",
        "sns.heatmap(data.corr(), annot=True, cmap=\"coolwarm\")\n",
        "plt.show()\n"
      ],
      "metadata": {
        "colab": {
          "base_uri": "https://localhost:8080/",
          "height": 435
        },
        "id": "vYXakAwk5uES",
        "outputId": "2271edde-349e-44de-a517-1ef8fecaa2f3"
      },
      "execution_count": 34,
      "outputs": [
        {
          "output_type": "display_data",
          "data": {
            "text/plain": [
              "<Figure size 640x480 with 2 Axes>"
            ],
            "image/png": "[encoded data removed]"
          },
          "metadata": {}
        }
      ]
    },
    {
      "cell_type": "code",
      "source": [
        "\"\"\"  22.Generate a dataset and implement both variance and standard deviation computations?  \"\"\"\n",
        "data = np.random.rand(100)\n",
        "\n",
        "variance = np.var(data)\n",
        "std_dev = np.std(data)\n",
        "\n",
        "print(f\"Variance: {variance}, Standard Deviation: {std_dev}\")\n",
        "\n"
      ],
      "metadata": {
        "colab": {
          "base_uri": "https://localhost:8080/"
        },
        "id": "ShcBhJ4n5wwN",
        "outputId": "dcbfed43-4768-48c8-8682-35780139477f"
      },
      "execution_count": 33,
      "outputs": [
        {
          "output_type": "stream",
          "name": "stdout",
          "text": [
            "Variance: 0.07549004526987017, Standard Deviation: 0.2747545181973723\n"
          ]
        }
      ]
    },
    {
      "cell_type": "code",
      "source": [
        "\"\"\"  23.Visualize skewness and kurtosis using Python libraries like matplotlib or seaborn?  \"\"\"\n",
        "import seaborn as sns\n",
        "import matplotlib.pyplot as plt\n",
        "\n",
        "tips = sns.load_dataset(\"tips\")\n",
        "\n",
        "sns.histplot(tips[\"total_bill\"], kde=True)\n",
        "plt.show()\n"
      ],
      "metadata": {
        "colab": {
          "base_uri": "https://localhost:8080/",
          "height": 452
        },
        "id": "JiAC7tbEztyM",
        "outputId": "85303eaf-2976-43e1-fb0b-5e47eb77c66c"
      },
      "execution_count": 31,
      "outputs": [
        {
          "output_type": "display_data",
          "data": {
            "text/plain": [
              "<Figure size 640x480 with 1 Axes>"
            ],
            "image/png": "[encoded data removed]"
          },
          "metadata": {}
        }
      ]
    },
    {
      "cell_type": "code",
      "source": [
        "\"\"\"  24.Implement the Pearson and Spearman correlation coefficients for a dataset?  \"\"\"\n",
        "import seaborn as sns\n",
        "from scipy.stats import pearsonr, spearmanr\n",
        "\n",
        "tips = sns.load_dataset(\"tips\")\n",
        "\n",
        "pearson_corr, _ = pearsonr(tips[\"total_bill\"], tips[\"tip\"])\n",
        "spearman_corr, _ = spearmanr(tips[\"total_bill\"], tips[\"tip\"])\n",
        "\n",
        "print(f\"Pearson Correlation: {pearson_corr}\")\n",
        "print(f\"Spearman Correlation: {spearman_corr}\")\n"
      ],
      "metadata": {
        "colab": {
          "base_uri": "https://localhost:8080/"
        },
        "id": "uPBwxa002vw9",
        "outputId": "3bdae053-5277-4ffe-8a85-56125ecefc08"
      },
      "execution_count": 30,
      "outputs": [
        {
          "output_type": "stream",
          "name": "stdout",
          "text": [
            "Pearson Correlation: 0.6757341092113645\n",
            "Spearman Correlation: 0.6789681219001009\n"
          ]
        }
      ]
    },
    {
      "cell_type": "markdown",
      "source": [
        "\n",
        "\n",
        "---\n",
        "\n"
      ],
      "metadata": {
        "id": "kXSZOUlJ8-7H"
      }
    },
    {
      "cell_type": "code",
      "source": [],
      "metadata": {
        "id": "k5unrOBe9IjV"
      },
      "execution_count": null,
      "outputs": []
    }
  ]
}