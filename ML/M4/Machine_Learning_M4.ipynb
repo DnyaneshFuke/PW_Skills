{
 "cells": [
  {
   "cell_type": "markdown",
   "id": "bf2452bf",
   "metadata": {},
   "source": [
    "# MODULE_3_ML: ASSIGNMENT.\n"
   ]
  },
  {
   "cell_type": "markdown",
   "id": "36aea660",
   "metadata": {},
   "source": [
    "-   -   -   -   -   -   -   -\n"
   ]
  },
  {
   "cell_type": "markdown",
   "id": "767a6b7d",
   "metadata": {},
   "source": [
    "#   Logistic Regression Assignment Questions"
   ]
  },
  {
   "cell_type": "markdown",
   "id": "7952805c",
   "metadata": {},
   "source": [
    "-   -   -   -   -   -   -   -   -   -   -   -   -   -   -   -   -   -   -   - "
   ]
  },
  {
   "cell_type": "markdown",
   "id": "d3d4b4cd",
   "metadata": {},
   "source": [
    "1. **What is Logistic Regression, and how does it differ from Linear Regression?**  \n",
    "   - Logistic Regression is used for **classification**, Linear Regression is used for **regression**.  \n",
    "   - Logistic Regression predicts **probabilities (0 to 1)** using a sigmoid function.  \n",
    "   - Linear Regression predicts **real values** and uses a linear relationship.  \n",
    "   - Logistic Regression is ideal for binary outcomes; Linear Regression is for continuous variables.\n",
    "\n",
    "2. **What is the mathematical equation of Logistic Regression?**  \n",
    "   \\[\n",
    "   h_\\theta(x) = \\frac{1}{1 + e^{-\\theta^T x}}\n",
    "   \\]  \n",
    "   - Where \\( \\theta^T x \\) is the weighted sum of input features.  \n",
    "   - \\( h_\\theta(x) \\) is the predicted probability of the positive class.\n",
    "\n",
    "3. **Why do we use the Sigmoid function in Logistic Regression?**  \n",
    "   - It squashes any real-valued number into a range between 0 and 1.  \n",
    "   - It allows interpreting output as **probability**.  \n",
    "   - Helps in classification by applying a threshold (e.g., 0.5).\n",
    "\n",
    "4. **What is the cost function of Logistic Regression?**  \n",
    "   - The cost is measured using **Binary Cross-Entropy (Log Loss)**:  \n",
    "     \\[\n",
    "     J(\\theta) = -\\frac{1}{m} \\sum_{i=1}^m \\left[ y^{(i)} \\log(h_\\theta(x^{(i)})) + (1 - y^{(i)}) \\log(1 - h_\\theta(x^{(i)})) \\right]\n",
    "     \\]\n",
    "\n",
    "5. **What is Regularization in Logistic Regression? Why is it needed?**  \n",
    "   - Regularization adds a penalty to the loss function to **avoid overfitting**.  \n",
    "   - It helps by shrinking less important feature coefficients.  \n",
    "   - Two common types: **L1 (Lasso)** and **L2 (Ridge)** regularization.\n",
    "\n",
    "6. **Explain the difference between Lasso, Ridge, and Elastic Net regression**  \n",
    "   - **Lasso (L1):** Can shrink coefficients to zero → feature selection.  \n",
    "   - **Ridge (L2):** Shrinks coefficients smoothly but doesn't eliminate them.  \n",
    "   - **Elastic Net:** Combination of L1 and L2 → balances feature selection and shrinkage.\n",
    "\n",
    "7. **When should we use Elastic Net instead of Lasso or Ridge?**  \n",
    "   - When you have **many correlated features**.  \n",
    "   - Elastic Net handles multicollinearity better than Lasso and Ridge individually.\n",
    "\n",
    "8. **What is the impact of the regularization parameter (λ) in Logistic Regression?**  \n",
    "   - Controls the strength of regularization.  \n",
    "   - **High λ:** More regularization → can underfit.  \n",
    "   - **Low λ:** Less regularization → risk of overfitting.\n",
    "\n",
    "9. **What are the key assumptions of Logistic Regression?**  \n",
    "   - The outcome is **binary**.  \n",
    "   - No multicollinearity among independent variables.  \n",
    "   - Linearity between independent variables and the **log-odds** of the outcome.  \n",
    "   - Observations are **independent**.\n",
    "\n",
    "10. **What are some alternatives to Logistic Regression for classification tasks?**  \n",
    "    - **Decision Trees**  \n",
    "    - **Random Forests**  \n",
    "    - **Support Vector Machines (SVM)**  \n",
    "    - **Naive Bayes**  \n",
    "    - **K-Nearest Neighbors (KNN)**  \n",
    "    - **Neural Networks**\n",
    "\n",
    "11. **What are Classification Evaluation Metrics?**  \n",
    "    - **Accuracy**  \n",
    "    - **Precision, Recall, F1-score**  \n",
    "    - **ROC-AUC**  \n",
    "    - **Confusion Matrix**\n",
    "\n",
    "12. **How does class imbalance affect Logistic Regression?**  \n",
    "    - The model may be biased toward the **majority class**.  \n",
    "    - Metrics like **accuracy** can be misleading.  \n",
    "    - Use techniques like **SMOTE**, class weights, or resampling.\n",
    "\n",
    "13. **What is Hyperparameter Tuning in Logistic Regression?**  \n",
    "    - The process of optimizing parameters like:  \n",
    "      - **C (inverse of λ)**  \n",
    "      - **Solver**  \n",
    "      - **Penalty type (L1, L2)**  \n",
    "    - Done using Grid Search, Random Search, or Bayesian Optimization.\n",
    "\n",
    "14. **What are different solvers in Logistic Regression? Which one should be used?**  \n",
    "    - **liblinear:** Best for small datasets and L1 regularization.  \n",
    "    - **lbfgs:** Default solver, good for L2 penalty and large datasets.  \n",
    "    - **sag:** Good for large datasets, only L2.  \n",
    "    - **saga:** Handles L1 and L2, works well with large datasets.\n",
    "\n",
    "15. **How is Logistic Regression extended for multiclass classification?**  \n",
    "    - Using **One-vs-Rest (OvR)** or **Softmax Regression (Multinomial Logistic Regression)**.  \n",
    "    - OvR trains one classifier per class.  \n",
    "    - Softmax handles all classes in a single model.\n",
    "\n",
    "16. **What are the advantages and disadvantages of Logistic Regression?**  \n",
    "    - ✅ **Advantages:** Simple, interpretable, efficient for binary classification.  \n",
    "    - ❌ **Disadvantages:** Assumes linearity in log-odds, doesn't handle complex relationships.\n",
    "\n",
    "17. **What are some use cases of Logistic Regression?**  \n",
    "    - Spam detection  \n",
    "    - Credit scoring  \n",
    "    - Medical diagnosis (disease prediction)  \n",
    "    - Marketing campaign response prediction\n",
    "\n",
    "18. **What is the difference between Softmax Regression and Logistic Regression?**  \n",
    "    - **Logistic Regression:** For binary classification.  \n",
    "    - **Softmax Regression:** For **multiclass** problems; outputs probability distribution over all classes.\n",
    "\n",
    "19. **How do we choose between One-vs-Rest (OvR) and Softmax for multiclass classification?**  \n",
    "    - **OvR:** Easier to train, more interpretable, can be good with unbalanced data.  \n",
    "    - **Softmax:** More efficient when the classes are **mutually exclusive** and dataset is balanced.\n",
    "\n",
    "20. **How do we interpret coefficients in Logistic Regression?**  \n",
    "    - Coefficients represent the change in the **log-odds** of the outcome per unit change in the predictor.  \n",
    "    - Exponentiating them gives **odds ratios**.\n",
    "\n"
   ]
  },
  {
   "cell_type": "markdown",
   "id": "823165a5",
   "metadata": {},
   "source": [
    "-   -   -   -   -   -   -   -   -   -   -   -   -   -   -   -   -   -   -   - "
   ]
  },
  {
   "cell_type": "markdown",
   "id": "f83c570e",
   "metadata": {},
   "source": [
    "#   Practical Questions"
   ]
  },
  {
   "cell_type": "code",
   "execution_count": 1,
   "id": "b0bbd69b",
   "metadata": {},
   "outputs": [
    {
     "name": "stdout",
     "output_type": "stream",
     "text": [
      "Accuracy: 1.0\n"
     ]
    }
   ],
   "source": [
    "# 1. Write a Python program that loads a dataset, splits it into training and testing sets, applies Logistic Regression, and prints the model accuracy\n",
    "\n",
    "from sklearn.datasets import load_iris\n",
    "from sklearn.linear_model import LogisticRegression\n",
    "from sklearn.model_selection import train_test_split\n",
    "from sklearn.metrics import accuracy_score\n",
    "\n",
    "data = load_iris()\n",
    "X, y = data.data, data.target\n",
    "X_train, X_test, y_train, y_test = train_test_split(X, y, test_size=0.2, random_state=42)\n",
    "\n",
    "model = LogisticRegression(max_iter=200)\n",
    "model.fit(X_train, y_train)\n",
    "y_pred = model.predict(X_test)\n",
    "print(\"Accuracy:\", accuracy_score(y_test, y_pred))\n"
   ]
  },
  {
   "cell_type": "code",
   "execution_count": 2,
   "id": "007247cd",
   "metadata": {},
   "outputs": [
    {
     "name": "stdout",
     "output_type": "stream",
     "text": [
      "L1 Regularization Accuracy: 1.0\n"
     ]
    }
   ],
   "source": [
    "# 2. Write a Python program to apply L1 regularization (Lasso) on a dataset using LogisticRegression(penalty='l1') and print the model accuracy\n",
    "\n",
    "model = LogisticRegression(penalty='l1', solver='liblinear', max_iter=200)\n",
    "model.fit(X_train, y_train)\n",
    "y_pred = model.predict(X_test)\n",
    "print(\"L1 Regularization Accuracy:\", accuracy_score(y_test, y_pred))\n"
   ]
  },
  {
   "cell_type": "code",
   "execution_count": 3,
   "id": "37bea61e",
   "metadata": {},
   "outputs": [
    {
     "name": "stdout",
     "output_type": "stream",
     "text": [
      "L2 Accuracy: 1.0\n",
      "Coefficients: [[ 0.3711229   1.409712   -2.15210117 -0.95474179]\n",
      " [ 0.49400451 -1.58897112  0.43717015 -1.11187838]\n",
      " [-1.55895271 -1.58893375  2.39874554  2.15556209]]\n"
     ]
    }
   ],
   "source": [
    "# 3. Write a Python program to train Logistic Regression with L2 regularization (Ridge) using LogisticRegression(penalty='l2'). Print model accuracy and coefficients\n",
    "\n",
    "model = LogisticRegression(penalty='l2', solver='liblinear', max_iter=200)\n",
    "model.fit(X_train, y_train)\n",
    "y_pred = model.predict(X_test)\n",
    "print(\"L2 Accuracy:\", accuracy_score(y_test, y_pred))\n",
    "print(\"Coefficients:\", model.coef_)\n"
   ]
  },
  {
   "cell_type": "code",
   "execution_count": 4,
   "id": "7136b2ac",
   "metadata": {},
   "outputs": [
    {
     "name": "stdout",
     "output_type": "stream",
     "text": [
      "Elastic Net Accuracy: 1.0\n"
     ]
    },
    {
     "name": "stderr",
     "output_type": "stream",
     "text": [
      "c:\\Users\\Dnyanesh\\anaconda3\\Lib\\site-packages\\sklearn\\linear_model\\_sag.py:349: ConvergenceWarning: The max_iter was reached which means the coef_ did not converge\n",
      "  warnings.warn(\n"
     ]
    }
   ],
   "source": [
    "# 4. Write a Python program to train Logistic Regression with Elastic Net Regularization (penalty='elasticnet')\n",
    "model = LogisticRegression(penalty='elasticnet', solver='saga', l1_ratio=0.5, max_iter=200)\n",
    "model.fit(X_train, y_train)\n",
    "y_pred = model.predict(X_test)\n",
    "print(\"Elastic Net Accuracy:\", accuracy_score(y_test, y_pred))\n"
   ]
  },
  {
   "cell_type": "code",
   "execution_count": 6,
   "id": "d3e247c7",
   "metadata": {},
   "outputs": [
    {
     "name": "stdout",
     "output_type": "stream",
     "text": [
      "OvR Accuracy: 1.0\n"
     ]
    },
    {
     "name": "stderr",
     "output_type": "stream",
     "text": [
      "c:\\Users\\Dnyanesh\\anaconda3\\Lib\\site-packages\\sklearn\\linear_model\\_logistic.py:1256: FutureWarning: 'multi_class' was deprecated in version 1.5 and will be removed in 1.7. Use OneVsRestClassifier(LogisticRegression(..)) instead. Leave it to its default value to avoid this warning.\n",
      "  warnings.warn(\n"
     ]
    }
   ],
   "source": [
    "# 5. Write a Python program to train a Logistic Regression model for multiclass classification using multi_class='ovr'\n",
    "model = LogisticRegression(multi_class='ovr', solver='liblinear', max_iter=200)\n",
    "model.fit(X_train, y_train)\n",
    "y_pred = model.predict(X_test)\n",
    "print(\"OvR Accuracy:\", accuracy_score(y_test, y_pred))\n"
   ]
  },
  {
   "cell_type": "code",
   "execution_count": 7,
   "id": "e03652db",
   "metadata": {},
   "outputs": [
    {
     "name": "stdout",
     "output_type": "stream",
     "text": [
      "Best Params: {'C': 10, 'penalty': 'l1', 'solver': 'liblinear'}\n",
      "Best Accuracy: 0.9583333333333334\n"
     ]
    }
   ],
   "source": [
    "# 6. Write a Python program to apply GridSearchCV to tune the hyperparameters (C and penalty) of Logistic Regression. Print the best parameters and accuracy\n",
    "from sklearn.model_selection import GridSearchCV\n",
    "\n",
    "param_grid = {\n",
    "    'C': [0.01, 0.1, 1, 10],\n",
    "    'penalty': ['l1', 'l2'],\n",
    "    'solver': ['liblinear']\n",
    "}\n",
    "grid = GridSearchCV(LogisticRegression(max_iter=200), param_grid, cv=5)\n",
    "grid.fit(X_train, y_train)\n",
    "print(\"Best Params:\", grid.best_params_)\n",
    "print(\"Best Accuracy:\", grid.best_score_)\n"
   ]
  },
  {
   "cell_type": "code",
   "execution_count": 8,
   "id": "e1766d99",
   "metadata": {},
   "outputs": [
    {
     "name": "stdout",
     "output_type": "stream",
     "text": [
      "Average Accuracy: 0.9733333333333334\n"
     ]
    }
   ],
   "source": [
    "# 7. Write a Python program to evaluate Logistic Regression using Stratified K-Fold Cross-Validation. Print the average accuracy\n",
    "from sklearn.model_selection import StratifiedKFold, cross_val_score\n",
    "\n",
    "skf = StratifiedKFold(n_splits=5)\n",
    "model = LogisticRegression(max_iter=200)\n",
    "scores = cross_val_score(model, X, y, cv=skf)\n",
    "print(\"Average Accuracy:\", scores.mean())\n"
   ]
  },
  {
   "cell_type": "code",
   "execution_count": 11,
   "id": "565f0f7b",
   "metadata": {},
   "outputs": [
    {
     "name": "stdout",
     "output_type": "stream",
     "text": [
      "Accuracy from CSV: 0.52\n"
     ]
    }
   ],
   "source": [
    "# 8. Write a Python program to load a dataset from a CSV file, apply Logistic Regression, and evaluate its accuracy\n",
    "import pandas as pd\n",
    "\n",
    "df = pd.read_csv('random_dataset.csv')  # replace with actual file path\n",
    "X = df.drop('target', axis=1)\n",
    "y = df['target']\n",
    "\n",
    "X_train, X_test, y_train, y_test = train_test_split(X, y, test_size=0.2)\n",
    "model = LogisticRegression(max_iter=200)\n",
    "model.fit(X_train, y_train)\n",
    "print(\"Accuracy from CSV:\", model.score(X_test, y_test))\n"
   ]
  },
  {
   "cell_type": "code",
   "execution_count": 12,
   "id": "e0601d53",
   "metadata": {},
   "outputs": [
    {
     "name": "stdout",
     "output_type": "stream",
     "text": [
      "Best Params: {'solver': 'saga', 'penalty': 'l1', 'C': 0.01}\n",
      "Best Accuracy: 0.51625\n"
     ]
    }
   ],
   "source": [
    "# 9. Write a Python program to apply RandomizedSearchCV for tuning hyperparameters (C, penalty, solver) in Logistic Regression. Print the best parameters and accuracy\n",
    "from sklearn.model_selection import RandomizedSearchCV\n",
    "\n",
    "param_dist = {\n",
    "    'C': [0.01, 0.1, 1, 10],\n",
    "    'penalty': ['l1', 'l2'],\n",
    "    'solver': ['liblinear', 'saga']\n",
    "}\n",
    "\n",
    "random_search = RandomizedSearchCV(LogisticRegression(max_iter=200), param_dist, cv=5, n_iter=5)\n",
    "random_search.fit(X_train, y_train)\n",
    "print(\"Best Params:\", random_search.best_params_)\n",
    "print(\"Best Accuracy:\", random_search.best_score_)\n"
   ]
  },
  {
   "cell_type": "code",
   "execution_count": 13,
   "id": "8d5b9a82",
   "metadata": {},
   "outputs": [
    {
     "name": "stdout",
     "output_type": "stream",
     "text": [
      "OvO Accuracy: 0.52\n"
     ]
    }
   ],
   "source": [
    "# 10. Write a Python program to implement One-vs-One (OvO) Multiclass Logistic Regression and print accuracy\n",
    "from sklearn.multiclass import OneVsOneClassifier\n",
    "\n",
    "ovo_model = OneVsOneClassifier(LogisticRegression(max_iter=200))\n",
    "ovo_model.fit(X_train, y_train)\n",
    "print(\"OvO Accuracy:\", ovo_model.score(X_test, y_test))\n"
   ]
  },
  {
   "cell_type": "code",
   "execution_count": 14,
   "id": "8153c049",
   "metadata": {},
   "outputs": [
    {
     "data": {
      "text/plain": [
       "<sklearn.metrics._plot.confusion_matrix.ConfusionMatrixDisplay at 0x1998f6ffcb0>"
      ]
     },
     "execution_count": 14,
     "metadata": {},
     "output_type": "execute_result"
    },
    {
     "data": {
      "image/png": "[encoded data removed]",
      "text/plain": [
       "<Figure size 640x480 with 2 Axes>"
      ]
     },
     "metadata": {},
     "output_type": "display_data"
    }
   ],
   "source": [
    "# 11. Write a Python program to train a Logistic Regression model and visualize the confusion matrix for binary classification\n",
    "from sklearn.metrics import confusion_matrix, ConfusionMatrixDisplay\n",
    "\n",
    "binary_model = LogisticRegression(max_iter=200)\n",
    "binary_model.fit(X_train, y_train)\n",
    "y_pred = binary_model.predict(X_test)\n",
    "\n",
    "cm = confusion_matrix(y_test, y_pred)\n",
    "disp = ConfusionMatrixDisplay(confusion_matrix=cm)\n",
    "disp.plot()\n"
   ]
  },
  {
   "cell_type": "code",
   "execution_count": 15,
   "id": "38bea98b",
   "metadata": {},
   "outputs": [
    {
     "name": "stdout",
     "output_type": "stream",
     "text": [
      "Precision: 0.5322245322245323\n",
      "Recall: 0.5248099239695878\n",
      "F1 Score: 0.4931897370921761\n"
     ]
    }
   ],
   "source": [
    "# 12. Write a Python program to train a Logistic Regression model and evaluate its performance using Precision, Recall, and F1-Score\n",
    "from sklearn.metrics import precision_score, recall_score, f1_score\n",
    "\n",
    "y_pred = binary_model.predict(X_test)\n",
    "print(\"Precision:\", precision_score(y_test, y_pred, average='macro'))\n",
    "print(\"Recall:\", recall_score(y_test, y_pred, average='macro'))\n",
    "print(\"F1 Score:\", f1_score(y_test, y_pred, average='macro'))\n"
   ]
  },
  {
   "cell_type": "code",
   "execution_count": 16,
   "id": "b4c4d986",
   "metadata": {},
   "outputs": [
    {
     "name": "stdout",
     "output_type": "stream",
     "text": [
      "Balanced Accuracy: 0.54\n"
     ]
    }
   ],
   "source": [
    "# 13. Write a Python program to train a Logistic Regression model on imbalanced data and apply class weights to improve model performance\n",
    "model = LogisticRegression(class_weight='balanced', max_iter=200)\n",
    "model.fit(X_train, y_train)\n",
    "print(\"Balanced Accuracy:\", model.score(X_test, y_test))\n"
   ]
  },
  {
   "cell_type": "code",
   "execution_count": 23,
   "id": "6d859376",
   "metadata": {},
   "outputs": [
    {
     "name": "stdout",
     "output_type": "stream",
     "text": [
      "Titanic Accuracy: 0.8044692737430168\n"
     ]
    }
   ],
   "source": [
    "# 14. Write a Python program to train Logistic Regression on the Titanic dataset, handle missing values, and evaluate performance\n",
    "import seaborn as sns\n",
    "import pandas as pd\n",
    "from sklearn.model_selection import train_test_split\n",
    "from sklearn.linear_model import LogisticRegression\n",
    "from sklearn.preprocessing import StandardScaler\n",
    "\n",
    "# Load the Titanic dataset\n",
    "titanic = sns.load_dataset('titanic')\n",
    "titanic.head()\n",
    "# Handle missing values by filling with the mean of numeric columns\n",
    "titanic.fillna(titanic.mean(numeric_only=True), inplace=True)\n",
    "\n",
    "# Selecting features and target\n",
    "X = titanic.drop(['survived', 'embarked', 'class', 'sex', 'who', 'deck', 'embark_town', 'alive', 'alone'], axis=1)\n",
    "X = pd.get_dummies(X, drop_first=True)  # Encoding categorical variables\n",
    "y = titanic['survived']\n",
    "\n",
    "# Train-test split\n",
    "X_train, X_test, y_train, y_test = train_test_split(X, y, test_size=0.2, random_state=42)\n",
    "\n",
    "# Standardizing the data\n",
    "scaler = StandardScaler()\n",
    "X_train_scaled = scaler.fit_transform(X_train)\n",
    "X_test_scaled = scaler.transform(X_test)\n",
    "\n",
    "# Train the Logistic Regression model\n",
    "model = LogisticRegression(max_iter=200)\n",
    "model.fit(X_train_scaled, y_train)\n",
    "\n",
    "# Evaluate performance\n",
    "print(\"Titanic Accuracy:\", model.score(X_test_scaled, y_test))\n"
   ]
  },
  {
   "cell_type": "code",
   "execution_count": 24,
   "id": "c20d67fd",
   "metadata": {},
   "outputs": [
    {
     "name": "stdout",
     "output_type": "stream",
     "text": [
      "Accuracy with Scaling: 0.8603351955307262\n"
     ]
    }
   ],
   "source": [
    "# 15. Write a Python program to apply feature scaling (Standardization) before training a Logistic Regression model. Evaluate its accuracy and compare results with and without scaling\n",
    "from sklearn.preprocessing import StandardScaler\n",
    "\n",
    "scaler = StandardScaler()\n",
    "X_scaled = scaler.fit_transform(X)\n",
    "\n",
    "X_train_s, X_test_s, y_train_s, y_test_s = train_test_split(X_scaled, y, test_size=0.2)\n",
    "model = LogisticRegression(max_iter=200)\n",
    "model.fit(X_train_s, y_train_s)\n",
    "print(\"Accuracy with Scaling:\", model.score(X_test_s, y_test_s))\n"
   ]
  },
  {
   "cell_type": "code",
   "execution_count": 25,
   "id": "21819ee0",
   "metadata": {},
   "outputs": [
    {
     "name": "stdout",
     "output_type": "stream",
     "text": [
      "ROC-AUC Score: 0.42715572715572714\n"
     ]
    }
   ],
   "source": [
    "# 16. Write a Python program to train Logistic Regression and evaluate its performance using ROC-AUC score\n",
    "from sklearn.metrics import roc_auc_score\n",
    "from sklearn.preprocessing import label_binarize\n",
    "\n",
    "y_bin = label_binarize(y_test, classes=[0, 1, 2])  # adjust for binary\n",
    "y_score = model.predict_proba(X_test_s)\n",
    "\n",
    "print(\"ROC-AUC Score:\", roc_auc_score(y_bin, y_score, average='macro', multi_class='ovr'))\n"
   ]
  },
  {
   "cell_type": "code",
   "execution_count": 26,
   "id": "bcde052c",
   "metadata": {},
   "outputs": [
    {
     "name": "stdout",
     "output_type": "stream",
     "text": [
      "Custom C=0.5 Accuracy: 0.8044692737430168\n"
     ]
    }
   ],
   "source": [
    "# 17. Write a Python program to train Logistic Regression using a custom learning rate (C=0.5) and evaluate accuracy\n",
    "model = LogisticRegression(C=0.5, max_iter=200)\n",
    "model.fit(X_train, y_train)\n",
    "print(\"Custom C=0.5 Accuracy:\", model.score(X_test, y_test))\n"
   ]
  },
  {
   "cell_type": "code",
   "execution_count": 27,
   "id": "49a2e8f3",
   "metadata": {},
   "outputs": [
    {
     "name": "stdout",
     "output_type": "stream",
     "text": [
      "Important Features:\n",
      " fare          0.004533\n",
      "age          -0.011324\n",
      "parch        -0.262059\n",
      "sibsp        -0.483383\n",
      "pclass       -0.882013\n",
      "adult_male   -3.065265\n",
      "dtype: float64\n"
     ]
    }
   ],
   "source": [
    "# 18. Write a Python program to train Logistic Regression and identify important features based on model coefficients\n",
    "model = LogisticRegression(max_iter=200)\n",
    "model.fit(X_train, y_train)\n",
    "feature_importance = pd.Series(model.coef_[0], index=X_train.columns)\n",
    "print(\"Important Features:\\n\", feature_importance.sort_values(ascending=False))\n"
   ]
  },
  {
   "cell_type": "code",
   "execution_count": 28,
   "id": "2713d432",
   "metadata": {},
   "outputs": [
    {
     "name": "stdout",
     "output_type": "stream",
     "text": [
      "Cohen's Kappa Score: 0.59113750571037\n"
     ]
    }
   ],
   "source": [
    "# 19. Write a Python program to train Logistic Regression and evaluate its performance using Cohen’s Kappa Score\n",
    "from sklearn.metrics import cohen_kappa_score\n",
    "\n",
    "y_pred = model.predict(X_test)\n",
    "print(\"Cohen's Kappa Score:\", cohen_kappa_score(y_test, y_pred))\n"
   ]
  },
  {
   "cell_type": "code",
   "execution_count": 36,
   "id": "937cc836",
   "metadata": {},
   "outputs": [
    {
     "data": {
      "text/plain": [
       "<sklearn.metrics._plot.precision_recall_curve.PrecisionRecallDisplay at 0x1999b2678c0>"
      ]
     },
     "execution_count": 36,
     "metadata": {},
     "output_type": "execute_result"
    },
    {
     "data": {
      "image/png": "[encoded data removed]",
      "text/plain": [
       "<Figure size 640x480 with 1 Axes>"
      ]
     },
     "metadata": {},
     "output_type": "display_data"
    }
   ],
   "source": [
    "# 20. Write a Python program to train Logistic Regression and visualize the Precision-Recall Curve for binary classification\n",
    "from sklearn.metrics import precision_recall_curve, PrecisionRecallDisplay\n",
    "\n",
    "probs = model.predict_proba(X_test)[:, 1]\n",
    "precision, recall, _ = precision_recall_curve(y_test, probs)\n",
    "disp = PrecisionRecallDisplay(precision=precision, recall=recall)\n",
    "disp.plot()\n"
   ]
  },
  {
   "cell_type": "code",
   "execution_count": 30,
   "id": "a9868870",
   "metadata": {},
   "outputs": [
    {
     "name": "stdout",
     "output_type": "stream",
     "text": [
      "Solver: liblinear, Accuracy: 0.8044692737430168\n",
      "Solver: saga, Accuracy: 0.6759776536312849\n",
      "Solver: lbfgs, Accuracy: 0.8044692737430168\n"
     ]
    },
    {
     "name": "stderr",
     "output_type": "stream",
     "text": [
      "c:\\Users\\Dnyanesh\\anaconda3\\Lib\\site-packages\\sklearn\\linear_model\\_sag.py:349: ConvergenceWarning: The max_iter was reached which means the coef_ did not converge\n",
      "  warnings.warn(\n"
     ]
    }
   ],
   "source": [
    "# 21. Write a Python program to train Logistic Regression with different solvers (liblinear, saga, lbfgs) and compare their accuracy\n",
    "for solver in ['liblinear', 'saga', 'lbfgs']:\n",
    "    model = LogisticRegression(solver=solver, max_iter=200)\n",
    "    model.fit(X_train, y_train)\n",
    "    print(f\"Solver: {solver}, Accuracy: {model.score(X_test, y_test)}\")\n"
   ]
  },
  {
   "cell_type": "code",
   "execution_count": 31,
   "id": "e409a52d",
   "metadata": {},
   "outputs": [
    {
     "name": "stdout",
     "output_type": "stream",
     "text": [
      "MCC: 0.5931238648489722\n"
     ]
    }
   ],
   "source": [
    "# 22. Write a Python program to train Logistic Regression and evaluate its performance using Matthews Correlation Coefficient (MCC)\n",
    "from sklearn.metrics import matthews_corrcoef\n",
    "\n",
    "y_pred = model.predict(X_test)\n",
    "print(\"MCC:\", matthews_corrcoef(y_test, y_pred))\n"
   ]
  },
  {
   "cell_type": "code",
   "execution_count": 32,
   "id": "110598a6",
   "metadata": {},
   "outputs": [
    {
     "name": "stdout",
     "output_type": "stream",
     "text": [
      "Raw Accuracy: 0.8044692737430168\n",
      "Scaled Accuracy: 0.8603351955307262\n"
     ]
    }
   ],
   "source": [
    "# 23. Write a Python program to train Logistic Regression on both raw and standardized data. Compare their accuracy to see the impact of feature scaling\n",
    "model_raw = LogisticRegression(max_iter=200)\n",
    "model_raw.fit(X_train, y_train)\n",
    "print(\"Raw Accuracy:\", model_raw.score(X_test, y_test))\n",
    "\n",
    "model_scaled = LogisticRegression(max_iter=200)\n",
    "model_scaled.fit(X_train_s, y_train_s)\n",
    "print(\"Scaled Accuracy:\", model_scaled.score(X_test_s, y_test_s))\n"
   ]
  },
  {
   "cell_type": "code",
   "execution_count": 33,
   "id": "40c5baba",
   "metadata": {},
   "outputs": [
    {
     "name": "stdout",
     "output_type": "stream",
     "text": [
      "C=0.01, Mean CV Accuracy=0.738566317243111\n",
      "C=0.1, Mean CV Accuracy=0.8136840123030569\n",
      "C=1, Mean CV Accuracy=0.8181532860460736\n",
      "C=10, Mean CV Accuracy=0.8159186491745652\n"
     ]
    }
   ],
   "source": [
    "# 24. Write a Python program to train Logistic Regression and find the optimal C (regularization strength) using cross-validation\n",
    "from sklearn.model_selection import cross_val_score\n",
    "\n",
    "for c in [0.01, 0.1, 1, 10]:\n",
    "    model = LogisticRegression(C=c, max_iter=200)\n",
    "    scores = cross_val_score(model, X, y, cv=5)\n",
    "    print(f\"C={c}, Mean CV Accuracy={scores.mean()}\")\n"
   ]
  },
  {
   "cell_type": "code",
   "execution_count": 34,
   "id": "f0a0226c",
   "metadata": {},
   "outputs": [
    {
     "name": "stdout",
     "output_type": "stream",
     "text": [
      "Loaded Model Accuracy: 0.8044692737430168\n"
     ]
    }
   ],
   "source": [
    "# 25. Write a Python program to train Logistic Regression, save the trained model using joblib, and load it again to make predictions\n",
    "import joblib\n",
    "\n",
    "model = LogisticRegression(max_iter=200)\n",
    "model.fit(X_train, y_train)\n",
    "joblib.dump(model, 'logistic_model.pkl')\n",
    "\n",
    "loaded_model = joblib.load('logistic_model.pkl')\n",
    "print(\"Loaded Model Accuracy:\", loaded_model.score(X_test, y_test))\n"
   ]
  },
  {
   "cell_type": "markdown",
   "id": "a4302ea8",
   "metadata": {},
   "source": [
    "-   -   -    -    -    -    -    -    -    -    -    -    -    -    -    -    -    -    -    -  -   -"
   ]
  }
 ],
 "metadata": {
  "kernelspec": {
   "display_name": "base",
   "language": "python",
   "name": "python3"
  },
  "language_info": {
   "codemirror_mode": {
    "name": "ipython",
    "version": 3
   },
   "file_extension": ".py",
   "mimetype": "text/x-python",
   "name": "python",
   "nbconvert_exporter": "python",
   "pygments_lexer": "ipython3",
   "version": "3.12.7"
  }
 },
 "nbformat": 4,
 "nbformat_minor": 5
}
